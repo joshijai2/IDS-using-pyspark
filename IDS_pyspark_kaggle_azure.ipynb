{
  "nbformat": 4,
  "nbformat_minor": 2,
  "cells": [
    {
      "cell_type": "markdown",
      "metadata": {},
      "source": [
        "# Importing Relevent Libraries"
      ]
    },
    {
      "cell_type": "code",
      "execution_count": 98,
      "outputs": [
        {
          "output_type": "display_data",
          "data": {
            "application/vnd.livy.statement-meta+json": {
              "spark_pool": "idssmall",
              "session_id": 0,
              "statement_id": 98,
              "state": "finished",
              "livy_statement_state": "available",
              "queued_time": "2021-06-02T20:28:45.5858828Z",
              "execution_start_time": "2021-06-02T20:28:45.7412549Z",
              "execution_finish_time": "2021-06-02T20:28:47.8072525Z"
            },
            "text/plain": "StatementMeta(idssmall, 0, 98, Finished, Available)"
          },
          "metadata": {}
        },
        {
          "output_type": "stream",
          "name": "stdout",
          "text": ""
        }
      ],
      "metadata": {
        "jupyter": {
          "source_hidden": false,
          "outputs_hidden": false
        },
        "nteract": {
          "transient": {
            "deleting": false
          }
        },
        "collapsed": false
      },
      "source": [
        "# for data visualization\r\n",
        "import numpy as np\r\n",
        "import pandas as pd\r\n",
        "import seaborn as sns\r\n",
        "import matplotlib.pyplot as plt\r\n",
        "\r\n",
        "# for preprocessing\r\n",
        "import pyspark.sql.functions as F\r\n",
        "from pyspark.ml.stat import Correlation\r\n",
        "from pyspark.ml import Pipeline, PipelineModel\r\n",
        "from pyspark.sql.types import *\r\n",
        "from pyspark.sql.functions import udf\r\n",
        "\r\n",
        "from pyspark.ml.feature import OneHotEncoderEstimator, StringIndexer, StandardScaler, VectorAssembler\r\n",
        "\r\n",
        "# for model building and evaluation\r\n",
        "from pyspark.ml.classification import RandomForestClassifier\r\n",
        "from pyspark.ml.tuning import CrossValidator, ParamGridBuilder, CrossValidatorModel\r\n",
        "from pyspark.ml.evaluation import BinaryClassificationEvaluator, MulticlassClassificationEvaluator\r\n",
        "from pyspark.mllib.evaluation import BinaryClassificationMetrics, MulticlassMetrics\r\n",
        "\r\n",
        "SEED = 0"
      ]
    },
    {
      "cell_type": "markdown",
      "metadata": {},
      "source": [
        "# Load the dataset"
      ]
    },
    {
      "cell_type": "code",
      "execution_count": 99,
      "outputs": [
        {
          "output_type": "display_data",
          "data": {
            "application/vnd.livy.statement-meta+json": {
              "spark_pool": "idssmall",
              "session_id": 0,
              "statement_id": 99,
              "state": "finished",
              "livy_statement_state": "available",
              "queued_time": "2021-06-02T20:28:45.6870806Z",
              "execution_start_time": "2021-06-02T20:28:47.9133506Z",
              "execution_finish_time": "2021-06-02T20:28:49.9836628Z"
            },
            "text/plain": "StatementMeta(idssmall, 0, 99, Finished, Available)"
          },
          "metadata": {}
        },
        {
          "output_type": "stream",
          "name": "stdout",
          "text": "Dataset has 25192 rows & 42 columns"
        }
      ],
      "metadata": {},
      "source": [
        "df = spark.read.options(header='True', inferSchema='True').csv(\"abfss://idspyspark@idspyspark.dfs.core.windows.net/Train_data.csv\")\r\n",
        "print(\"Dataset has {} rows & {} columns\".format(df.count(), len(df.columns)))"
      ]
    },
    {
      "cell_type": "code",
      "execution_count": 100,
      "outputs": [
        {
          "output_type": "display_data",
          "data": {
            "application/vnd.livy.statement-meta+json": {
              "spark_pool": "idssmall",
              "session_id": 0,
              "statement_id": 100,
              "state": "finished",
              "livy_statement_state": "available",
              "queued_time": "2021-06-02T20:28:46.0273205Z",
              "execution_start_time": "2021-06-02T20:28:50.1187974Z",
              "execution_finish_time": "2021-06-02T20:28:52.1848571Z"
            },
            "text/plain": "StatementMeta(idssmall, 0, 100, Finished, Available)"
          },
          "metadata": {}
        },
        {
          "output_type": "stream",
          "name": "stdout",
          "text": "root\n |-- duration: integer (nullable = true)\n |-- protocol_type: string (nullable = true)\n |-- service: string (nullable = true)\n |-- flag: string (nullable = true)\n |-- src_bytes: integer (nullable = true)\n |-- dst_bytes: integer (nullable = true)\n |-- land: integer (nullable = true)\n |-- wrong_fragment: integer (nullable = true)\n |-- urgent: integer (nullable = true)\n |-- hot: integer (nullable = true)\n |-- num_failed_logins: integer (nullable = true)\n |-- logged_in: integer (nullable = true)\n |-- num_compromised: integer (nullable = true)\n |-- root_shell: integer (nullable = true)\n |-- su_attempted: integer (nullable = true)\n |-- num_root: integer (nullable = true)\n |-- num_file_creations: integer (nullable = true)\n |-- num_shells: integer (nullable = true)\n |-- num_access_files: integer (nullable = true)\n |-- num_outbound_cmds: integer (nullable = true)\n |-- is_host_login: integer (nullable = true)\n |-- is_guest_login: integer (nullable = true)\n |-- count: integer (nullable = true)\n |-- srv_count: integer (nullable = true)\n |-- serror_rate: double (nullable = true)\n |-- srv_serror_rate: double (nullable = true)\n |-- rerror_rate: double (nullable = true)\n |-- srv_rerror_rate: double (nullable = true)\n |-- same_srv_rate: double (nullable = true)\n |-- diff_srv_rate: double (nullable = true)\n |-- srv_diff_host_rate: double (nullable = true)\n |-- dst_host_count: integer (nullable = true)\n |-- dst_host_srv_count: integer (nullable = true)\n |-- dst_host_same_srv_rate: double (nullable = true)\n |-- dst_host_diff_srv_rate: double (nullable = true)\n |-- dst_host_same_src_port_rate: double (nullable = true)\n |-- dst_host_srv_diff_host_rate: double (nullable = true)\n |-- dst_host_serror_rate: double (nullable = true)\n |-- dst_host_srv_serror_rate: double (nullable = true)\n |-- dst_host_rerror_rate: double (nullable = true)\n |-- dst_host_srv_rerror_rate: double (nullable = true)\n |-- class: string (nullable = true)"
        }
      ],
      "metadata": {
        "collapsed": false
      },
      "source": [
        "df.printSchema()"
      ]
    },
    {
      "cell_type": "code",
      "execution_count": 101,
      "outputs": [
        {
          "output_type": "display_data",
          "data": {
            "application/vnd.livy.statement-meta+json": {
              "spark_pool": "idssmall",
              "session_id": 0,
              "statement_id": 101,
              "state": "finished",
              "livy_statement_state": "available",
              "queued_time": "2021-06-02T20:28:46.1244565Z",
              "execution_start_time": "2021-06-02T20:28:52.3031944Z",
              "execution_finish_time": "2021-06-02T20:28:54.377396Z"
            },
            "text/plain": "StatementMeta(idssmall, 0, 101, Finished, Available)"
          },
          "metadata": {}
        },
        {
          "output_type": "stream",
          "name": "stdout",
          "text": "   duration protocol_type  ... dst_host_srv_rerror_rate    class\n0         0           tcp  ...                     0.00   normal\n1         0           udp  ...                     0.00   normal\n2         0           tcp  ...                     0.00  anomaly\n3         0           tcp  ...                     0.01   normal\n4         0           tcp  ...                     0.00   normal\n\n[5 rows x 42 columns]"
        }
      ],
      "metadata": {},
      "source": [
        "df.limit(5).toPandas()"
      ]
    },
    {
      "cell_type": "code",
      "execution_count": 102,
      "outputs": [
        {
          "output_type": "display_data",
          "data": {
            "application/vnd.livy.statement-meta+json": {
              "spark_pool": "idssmall",
              "session_id": 0,
              "statement_id": 102,
              "state": "finished",
              "livy_statement_state": "available",
              "queued_time": "2021-06-02T20:28:46.2125654Z",
              "execution_start_time": "2021-06-02T20:28:54.4888038Z",
              "execution_finish_time": "2021-06-02T20:28:56.542917Z"
            },
            "text/plain": "StatementMeta(idssmall, 0, 102, Finished, Available)"
          },
          "metadata": {}
        },
        {
          "output_type": "stream",
          "name": "stdout",
          "text": ""
        }
      ],
      "metadata": {
        "jupyter": {
          "source_hidden": false,
          "outputs_hidden": false
        },
        "nteract": {
          "transient": {
            "deleting": false
          }
        },
        "collapsed": true
      },
      "source": [
        "target_col = \"class\"\r\n",
        "cate_cols = [\"flag\",\"protocol_type\",\"service\"]\r\n",
        "num_cols = list(set(df.columns) - set(cate_cols) - set([target_col]))"
      ]
    },
    {
      "cell_type": "markdown",
      "metadata": {},
      "source": [
        "# Data Analysis and Preprocessing"
      ]
    },
    {
      "cell_type": "markdown",
      "metadata": {
        "nteract": {
          "transient": {
            "deleting": false
          }
        }
      },
      "source": [
        "## Impute missing values"
      ]
    },
    {
      "cell_type": "code",
      "execution_count": 103,
      "outputs": [
        {
          "output_type": "display_data",
          "data": {
            "application/vnd.livy.statement-meta+json": {
              "spark_pool": "idssmall",
              "session_id": 0,
              "statement_id": 103,
              "state": "finished",
              "livy_statement_state": "available",
              "queued_time": "2021-06-02T20:28:46.3092078Z",
              "execution_start_time": "2021-06-02T20:28:56.644522Z",
              "execution_finish_time": "2021-06-02T20:29:30.2415556Z"
            },
            "text/plain": "StatementMeta(idssmall, 0, 103, Finished, Available)"
          },
          "metadata": {}
        },
        {
          "output_type": "stream",
          "name": "stdout",
          "text": ""
        }
      ],
      "metadata": {
        "jupyter": {
          "source_hidden": false,
          "outputs_hidden": false
        },
        "nteract": {
          "transient": {
            "deleting": false
          }
        },
        "collapsed": true
      },
      "source": [
        "# Impute numerical features\r\n",
        "for col in num_cols:\r\n",
        "    df = df.withColumn(col, df[col].cast('double'))\r\n",
        "    mu = df.select(col).agg({col:'mean'}).collect()[0][0]\r\n",
        "    df = df.withColumn(col, F.when(df[col].isNull(), mu)\\\r\n",
        "                       .otherwise(df[col]))\r\n",
        "\r\n",
        "# Impute categorical features\r\n",
        "for col in cate_cols:\r\n",
        "    frq = df.select(col).groupby(col).count()\\\r\n",
        "                        .orderBy('count', ascending=False) \\\r\n",
        "                        .limit(1).collect()[0][0]\r\n",
        "    df = df.withColumn(col, F.when((df[col].isNull() | \r\n",
        "                                    (df[col] == '')), frq) \\\r\n",
        "                            .otherwise(df[col]))\r\n",
        "# Encode target column\r\n",
        "udf_class = udf(lambda x: 1 if x==\"anomaly\" else 0, IntegerType())\r\n",
        "df = df.withColumn(\"class\", udf_class(\"class\"))\r\n",
        "\r\n",
        "# Filter missing values\r\n",
        "df = df.withColumn('label', df[target_col].cast('double'))\r\n",
        "df = df.filter(df['label'].isNotNull())"
      ]
    },
    {
      "cell_type": "code",
      "execution_count": 104,
      "outputs": [
        {
          "output_type": "display_data",
          "data": {
            "application/vnd.livy.statement-meta+json": {
              "spark_pool": "idssmall",
              "session_id": 0,
              "statement_id": 104,
              "state": "finished",
              "livy_statement_state": "available",
              "queued_time": "2021-06-02T20:28:46.4132408Z",
              "execution_start_time": "2021-06-02T20:29:30.3951311Z",
              "execution_finish_time": "2021-06-02T20:29:32.4499427Z"
            },
            "text/plain": "StatementMeta(idssmall, 0, 104, Finished, Available)"
          },
          "metadata": {}
        },
        {
          "output_type": "stream",
          "name": "stdout",
          "text": ""
        }
      ],
      "metadata": {},
      "source": [
        "# df.createOrReplaceTempView(\"network_traffic\")\n",
        "# spark.sql(\"SELECT duration from network_traffic\").show()"
      ]
    },
    {
      "cell_type": "markdown",
      "metadata": {},
      "source": [
        "## Exploratory Data Analysis\n",
        "We plot various graphs to identify distributions, relationships or any pattern that is not visible by seeing raw data."
      ]
    },
    {
      "cell_type": "code",
      "execution_count": 105,
      "outputs": [
        {
          "output_type": "display_data",
          "data": {
            "application/vnd.livy.statement-meta+json": {
              "spark_pool": "idssmall",
              "session_id": 0,
              "statement_id": 105,
              "state": "finished",
              "livy_statement_state": "available",
              "queued_time": "2021-06-02T20:28:46.5307574Z",
              "execution_start_time": "2021-06-02T20:29:32.6435849Z",
              "execution_finish_time": "2021-06-02T20:29:34.6939108Z"
            },
            "text/plain": "StatementMeta(idssmall, 0, 105, Finished, Available)"
          },
          "metadata": {}
        },
        {
          "output_type": "stream",
          "name": "stdout",
          "text": ""
        }
      ],
      "metadata": {
        "scrolled": true
      },
      "source": [
        "df_pandas = df.toPandas()"
      ]
    },
    {
      "cell_type": "code",
      "execution_count": 106,
      "outputs": [
        {
          "output_type": "display_data",
          "data": {
            "application/vnd.livy.statement-meta+json": {
              "spark_pool": "idssmall",
              "session_id": 0,
              "statement_id": 106,
              "state": "finished",
              "livy_statement_state": "available",
              "queued_time": "2021-06-02T20:28:46.6452358Z",
              "execution_start_time": "2021-06-02T20:29:34.8028075Z",
              "execution_finish_time": "2021-06-02T20:29:36.8686602Z"
            },
            "text/plain": "StatementMeta(idssmall, 0, 106, Finished, Available)"
          },
          "metadata": {}
        },
        {
          "output_type": "display_data",
          "data": {
            "image/png": "[encoded data removed]"
          },
          "metadata": {}
        },
        {
          "output_type": "execute_result",
          "data": {},
          "execution_count": 106,
          "metadata": {}
        }
      ],
      "metadata": {
        "collapsed": false
      },
      "source": [
        "sns.countplot(x=df_pandas['class'])\n",
        "plt.show()"
      ]
    },
    {
      "cell_type": "code",
      "execution_count": 107,
      "outputs": [
        {
          "output_type": "display_data",
          "data": {
            "application/vnd.livy.statement-meta+json": {
              "spark_pool": "idssmall",
              "session_id": 0,
              "statement_id": 107,
              "state": "finished",
              "livy_statement_state": "available",
              "queued_time": "2021-06-02T20:28:46.7360081Z",
              "execution_start_time": "2021-06-02T20:29:36.9941296Z",
              "execution_finish_time": "2021-06-02T20:29:39.058913Z"
            },
            "text/plain": "StatementMeta(idssmall, 0, 107, Finished, Available)"
          },
          "metadata": {}
        },
        {
          "output_type": "display_data",
          "data": {
            "image/png": "[encoded data removed]"
          },
          "metadata": {}
        },
        {
          "output_type": "execute_result",
          "data": {},
          "execution_count": 107,
          "metadata": {}
        }
      ],
      "metadata": {
        "collapsed": false
      },
      "source": [
        "sns.countplot(x='protocol_type', data=df_pandas, hue=\"class\")\n",
        "plt.show()"
      ]
    },
    {
      "cell_type": "code",
      "execution_count": 108,
      "outputs": [
        {
          "output_type": "display_data",
          "data": {
            "application/vnd.livy.statement-meta+json": {
              "spark_pool": "idssmall",
              "session_id": 0,
              "statement_id": 108,
              "state": "finished",
              "livy_statement_state": "available",
              "queued_time": "2021-06-02T20:28:46.8622682Z",
              "execution_start_time": "2021-06-02T20:29:39.1745417Z",
              "execution_finish_time": "2021-06-02T20:29:41.2334052Z"
            },
            "text/plain": "StatementMeta(idssmall, 0, 108, Finished, Available)"
          },
          "metadata": {}
        },
        {
          "output_type": "display_data",
          "data": {
            "image/png": "[encoded data removed]"
          },
          "metadata": {}
        },
        {
          "output_type": "execute_result",
          "data": {},
          "execution_count": 108,
          "metadata": {}
        }
      ],
      "metadata": {
        "collapsed": false,
        "scrolled": false
      },
      "source": [
        "plt.figure(figsize=(12,6))\n",
        "sns.countplot(x='flag', data=df_pandas, hue=\"class\")\n",
        "plt.show()"
      ]
    },
    {
      "cell_type": "code",
      "execution_count": 109,
      "outputs": [
        {
          "output_type": "display_data",
          "data": {
            "application/vnd.livy.statement-meta+json": {
              "spark_pool": "idssmall",
              "session_id": 0,
              "statement_id": 109,
              "state": "finished",
              "livy_statement_state": "available",
              "queued_time": "2021-06-02T20:28:46.9593368Z",
              "execution_start_time": "2021-06-02T20:29:41.3879638Z",
              "execution_finish_time": "2021-06-02T20:29:43.4501532Z"
            },
            "text/plain": "StatementMeta(idssmall, 0, 109, Finished, Available)"
          },
          "metadata": {}
        },
        {
          "output_type": "display_data",
          "data": {
            "image/png": "[encoded data removed]"
          },
          "metadata": {}
        },
        {
          "output_type": "execute_result",
          "data": {},
          "execution_count": 109,
          "metadata": {}
        }
      ],
      "metadata": {
        "collapsed": false
      },
      "source": [
        "plt.figure(figsize=(16,6))\n",
        "sns.histplot(df_pandas['count'])\n",
        "plt.show()"
      ]
    },
    {
      "cell_type": "markdown",
      "metadata": {},
      "source": [
        "### Observation from the analysis:\n",
        "- We identified a slight imbalance in the target column \"class\" of our dataset. But it is not significant, otherwise we could go for oversampling.\n",
        "- 80% of traffic belongs TCP while 12% belongs to UDP and rest to ICMP.\n",
        "- Most of the ICMP traffic had anomaly; most of the UDP traffic was normal; while the distribution was almost equal in case of TCP.\n",
        "- The traffic distribution on the basis of flags was also uneven where most of it had SF(Sign Flag).\n",
        "- Most of the traffic with SF was normal, while that had S0 flag had anomaly.\n",
        "- Most of the traffic recorded was unique."
      ]
    },
    {
      "cell_type": "markdown",
      "metadata": {
        "nteract": {
          "transient": {
            "deleting": false
          }
        }
      },
      "source": [
        "## Data Encoding and Scaling"
      ]
    },
    {
      "cell_type": "code",
      "execution_count": 110,
      "outputs": [
        {
          "output_type": "display_data",
          "data": {
            "application/vnd.livy.statement-meta+json": {
              "spark_pool": "idssmall",
              "session_id": 0,
              "statement_id": 110,
              "state": "finished",
              "livy_statement_state": "available",
              "queued_time": "2021-06-02T20:28:47.6355222Z",
              "execution_start_time": "2021-06-02T20:29:43.5948083Z",
              "execution_finish_time": "2021-06-02T20:29:45.6516298Z"
            },
            "text/plain": "StatementMeta(idssmall, 0, 110, Finished, Available)"
          },
          "metadata": {}
        },
        {
          "output_type": "stream",
          "name": "stdout",
          "text": ""
        }
      ],
      "metadata": {
        "jupyter": {
          "source_hidden": false,
          "outputs_hidden": false
        },
        "nteract": {
          "transient": {
            "deleting": false
          }
        },
        "collapsed": true
      },
      "source": [
        "# helper function\r\n",
        "def gen_preprocessor(df):\r\n",
        "    # String Indexing for categorical features\r\n",
        "    indexers = [StringIndexer(inputCol=col, \r\n",
        "                              outputCol=\"{}_idx\".format(col),\r\n",
        "                              handleInvalid=\"keep\") \\\r\n",
        "                              for col in cate_cols]\r\n",
        "    \r\n",
        "    # One-hot encoding for categorical features\r\n",
        "    encoders = [OneHotEncoder(inputCol=\"{}_idx\".format(col), \r\n",
        "                              outputCol=\"{}_oh\".format(col)) \\\r\n",
        "                              for col in cate_cols]\r\n",
        "\r\n",
        "    # Concat Feature Columns\r\n",
        "    assembler = VectorAssembler(inputCols = num_cols + \\\r\n",
        "                            [\"{}_oh\".format(col) for col in cate_cols], \r\n",
        "                            outputCol = \"_features\")\r\n",
        "    \r\n",
        "    # Standardize Features\r\n",
        "    scaler = StandardScaler(inputCol='_features', \r\n",
        "                            outputCol='features')\r\n",
        "\r\n",
        "    preprocessor = Pipeline(stages = indexers + encoders + \\\r\n",
        "                                     [assembler, scaler]).fit(df)\r\n",
        "\r\n",
        "    return preprocessor"
      ]
    },
    {
      "cell_type": "code",
      "execution_count": 111,
      "outputs": [
        {
          "output_type": "display_data",
          "data": {
            "application/vnd.livy.statement-meta+json": {
              "spark_pool": "idssmall",
              "session_id": 0,
              "statement_id": 111,
              "state": "finished",
              "livy_statement_state": "available",
              "queued_time": "2021-06-02T20:28:47.7651713Z",
              "execution_start_time": "2021-06-02T20:29:45.7628386Z",
              "execution_finish_time": "2021-06-02T20:29:49.8840791Z"
            },
            "text/plain": "StatementMeta(idssmall, 0, 111, Finished, Available)"
          },
          "metadata": {}
        },
        {
          "output_type": "stream",
          "name": "stdout",
          "text": ""
        }
      ],
      "metadata": {
        "jupyter": {
          "source_hidden": false,
          "outputs_hidden": false
        },
        "nteract": {
          "transient": {
            "deleting": false
          }
        },
        "collapsed": true
      },
      "source": [
        "# Pre-Process\r\n",
        "preprocessor = gen_preprocessor(df)   \r\n",
        "df = preprocessor.transform(df)[\"features\",\"label\"]"
      ]
    },
    {
      "cell_type": "code",
      "execution_count": 112,
      "outputs": [
        {
          "output_type": "display_data",
          "data": {
            "application/vnd.livy.statement-meta+json": {
              "spark_pool": "idssmall",
              "session_id": 0,
              "statement_id": 112,
              "state": "finished",
              "livy_statement_state": "available",
              "queued_time": "2021-06-02T20:28:47.8316536Z",
              "execution_start_time": "2021-06-02T20:29:50.006511Z",
              "execution_finish_time": "2021-06-02T20:29:52.0619607Z"
            },
            "text/plain": "StatementMeta(idssmall, 0, 112, Finished, Available)"
          },
          "metadata": {}
        },
        {
          "output_type": "stream",
          "name": "stdout",
          "text": "root\n |-- features: vector (nullable = true)\n |-- label: double (nullable = true)"
        }
      ],
      "metadata": {
        "jupyter": {
          "source_hidden": false,
          "outputs_hidden": false
        },
        "nteract": {
          "transient": {
            "deleting": false
          }
        },
        "collapsed": true
      },
      "source": [
        "df.printSchema()"
      ]
    },
    {
      "cell_type": "code",
      "execution_count": 113,
      "outputs": [
        {
          "output_type": "display_data",
          "data": {
            "application/vnd.livy.statement-meta+json": {
              "spark_pool": "idssmall",
              "session_id": 0,
              "statement_id": 113,
              "state": "finished",
              "livy_statement_state": "available",
              "queued_time": "2021-06-02T20:28:47.8996064Z",
              "execution_start_time": "2021-06-02T20:29:52.1817396Z",
              "execution_finish_time": "2021-06-02T20:29:56.3208883Z"
            },
            "text/plain": "StatementMeta(idssmall, 0, 113, Finished, Available)"
          },
          "metadata": {}
        },
        {
          "output_type": "stream",
          "name": "stdout",
          "text": "Pearson correlation matrix:\nDenseMatrix([[ 1.00000000e+00, -9.80079955e-04,  1.27036813e-02, ...,\n              -4.28998563e-04, -3.50268907e-04, -2.47672604e-04],\n             [-9.80079955e-04,  1.00000000e+00,  6.24838616e-01, ...,\n              -1.09216653e-02, -9.14550038e-03, -6.49518890e-03],\n             [ 1.27036813e-02,  6.24838616e-01,  1.00000000e+00, ...,\n              -8.81384396e-03, -7.19633062e-03, -5.08847318e-03],\n             ...,\n             [-4.28998563e-04, -1.09216653e-02, -8.81384396e-03, ...,\n               1.00000000e+00, -9.72424916e-05, -6.87594605e-05],\n             [-3.50268907e-04, -9.14550038e-03, -7.19633062e-03, ...,\n              -9.72424916e-05,  1.00000000e+00, -5.61407500e-05],\n             [-2.47672604e-04, -6.49518890e-03, -5.08847318e-03, ...,\n              -6.87594605e-05, -5.61407500e-05,  1.00000000e+00]])"
        }
      ],
      "metadata": {
        "jupyter": {
          "source_hidden": false,
          "outputs_hidden": false
        },
        "nteract": {
          "transient": {
            "deleting": false
          }
        },
        "collapsed": true
      },
      "source": [
        "r1 = Correlation.corr(df, \"features\").head()\r\n",
        "print(\"Pearson correlation matrix:\\n\" + str(r1[0]))"
      ]
    },
    {
      "cell_type": "code",
      "execution_count": 114,
      "outputs": [
        {
          "output_type": "display_data",
          "data": {
            "application/vnd.livy.statement-meta+json": {
              "spark_pool": "idssmall",
              "session_id": 0,
              "statement_id": 114,
              "state": "finished",
              "livy_statement_state": "available",
              "queued_time": "2021-06-02T20:28:48.0661449Z",
              "execution_start_time": "2021-06-02T20:29:56.4336401Z",
              "execution_finish_time": "2021-06-02T20:30:00.5662192Z"
            },
            "text/plain": "StatementMeta(idssmall, 0, 114, Finished, Available)"
          },
          "metadata": {}
        },
        {
          "output_type": "display_data",
          "data": {
            "image/png": "[encoded data removed]"
          },
          "metadata": {}
        },
        {
          "output_type": "execute_result",
          "data": {},
          "execution_count": 114,
          "metadata": {}
        }
      ],
      "metadata": {
        "jupyter": {
          "source_hidden": false,
          "outputs_hidden": false
        },
        "nteract": {
          "transient": {
            "deleting": false
          }
        },
        "collapsed": false
      },
      "source": [
        "pcorr = np.array(list(map(abs,r1[0].toArray())))\r\n",
        "plt.figure(figsize=(16,12))\r\n",
        "sns.heatmap(pcorr)\r\n",
        "plt.show()"
      ]
    },
    {
      "cell_type": "markdown",
      "metadata": {
        "nteract": {
          "transient": {
            "deleting": false
          }
        }
      },
      "source": [
        "## Train Test Split"
      ]
    },
    {
      "cell_type": "code",
      "execution_count": 115,
      "outputs": [
        {
          "output_type": "display_data",
          "data": {
            "application/vnd.livy.statement-meta+json": {
              "spark_pool": "idssmall",
              "session_id": 0,
              "statement_id": 115,
              "state": "finished",
              "livy_statement_state": "available",
              "queued_time": "2021-06-02T20:28:48.16825Z",
              "execution_start_time": "2021-06-02T20:30:00.7289554Z",
              "execution_finish_time": "2021-06-02T20:30:06.8902931Z"
            },
            "text/plain": "StatementMeta(idssmall, 0, 115, Finished, Available)"
          },
          "metadata": {}
        },
        {
          "output_type": "stream",
          "name": "stdout",
          "text": "Training data has 18955 rows, while testing data has 6237 rows"
        }
      ],
      "metadata": {
        "jupyter": {
          "source_hidden": false,
          "outputs_hidden": false
        },
        "nteract": {
          "transient": {
            "deleting": false
          }
        },
        "collapsed": true
      },
      "source": [
        "train, test = df.randomSplit([0.75, 0.25], seed=SEED)\r\n",
        "print(\"Training data has {} rows, while testing data has {} rows\".format(train.count(), test.count()))"
      ]
    },
    {
      "cell_type": "markdown",
      "metadata": {
        "nteract": {
          "transient": {
            "deleting": false
          }
        }
      },
      "source": [
        "# Model Training"
      ]
    },
    {
      "cell_type": "markdown",
      "metadata": {
        "nteract": {
          "transient": {
            "deleting": false
          }
        }
      },
      "source": [
        "## Random Forest Classifier"
      ]
    },
    {
      "cell_type": "code",
      "execution_count": 116,
      "outputs": [
        {
          "output_type": "display_data",
          "data": {
            "application/vnd.livy.statement-meta+json": {
              "spark_pool": "idssmall",
              "session_id": 0,
              "statement_id": 116,
              "state": "finished",
              "livy_statement_state": "available",
              "queued_time": "2021-06-02T20:28:48.2850298Z",
              "execution_start_time": "2021-06-02T20:30:07.0296713Z",
              "execution_finish_time": "2021-06-02T20:30:09.0845221Z"
            },
            "text/plain": "StatementMeta(idssmall, 0, 116, Finished, Available)"
          },
          "metadata": {}
        },
        {
          "output_type": "stream",
          "name": "stdout",
          "text": ""
        }
      ],
      "metadata": {},
      "source": [
        "rf = RandomForestClassifier()"
      ]
    },
    {
      "cell_type": "code",
      "execution_count": 117,
      "outputs": [
        {
          "output_type": "display_data",
          "data": {
            "application/vnd.livy.statement-meta+json": {
              "spark_pool": "idssmall",
              "session_id": 0,
              "statement_id": 117,
              "state": "finished",
              "livy_statement_state": "available",
              "queued_time": "2021-06-02T20:28:48.3981686Z",
              "execution_start_time": "2021-06-02T20:30:09.1930085Z",
              "execution_finish_time": "2021-06-02T20:30:11.2605452Z"
            },
            "text/plain": "StatementMeta(idssmall, 0, 117, Finished, Available)"
          },
          "metadata": {}
        },
        {
          "output_type": "stream",
          "name": "stdout",
          "text": ""
        }
      ],
      "metadata": {
        "jupyter": {
          "source_hidden": false,
          "outputs_hidden": false
        },
        "nteract": {
          "transient": {
            "deleting": false
          }
        },
        "collapsed": true
      },
      "source": [
        "paramGrid = ParamGridBuilder() \\\r\n",
        "            .addGrid(rf.numTrees, [50, 100, 200]) \\\r\n",
        "            .addGrid(rf.maxDepth, [5, 10, 15]) \\\r\n",
        "            .addGrid(rf.maxBins, [8, 16, 32]) \\\r\n",
        "            .build()"
      ]
    },
    {
      "cell_type": "code",
      "execution_count": 118,
      "outputs": [
        {
          "output_type": "display_data",
          "data": {
            "application/vnd.livy.statement-meta+json": {
              "spark_pool": "idssmall",
              "session_id": 0,
              "statement_id": 118,
              "state": "finished",
              "livy_statement_state": "available",
              "queued_time": "2021-06-02T20:28:48.4553894Z",
              "execution_start_time": "2021-06-02T20:30:11.4164972Z",
              "execution_finish_time": "2021-06-02T20:31:24.2338487Z"
            },
            "text/plain": "StatementMeta(idssmall, 0, 118, Finished, Available)"
          },
          "metadata": {}
        },
        {
          "output_type": "stream",
          "name": "stdout",
          "text": ""
        }
      ],
      "metadata": {
        "jupyter": {
          "source_hidden": false,
          "outputs_hidden": false
        },
        "nteract": {
          "transient": {
            "deleting": false
          }
        },
        "collapsed": true
      },
      "source": [
        "# Train the 5-fold Cross Validator\r\n",
        "cvModel = CrossValidator(estimator=Pipeline(stages = [rf]),\r\n",
        "            estimatorParamMaps=paramGrid,\r\n",
        "            evaluator=MulticlassClassificationEvaluator(),\r\n",
        "            numFolds=5).fit(train)"
      ]
    },
    {
      "cell_type": "code",
      "execution_count": 119,
      "outputs": [
        {
          "output_type": "display_data",
          "data": {
            "application/vnd.livy.statement-meta+json": {
              "spark_pool": "idssmall",
              "session_id": 0,
              "statement_id": 119,
              "state": "finished",
              "livy_statement_state": "available",
              "queued_time": "2021-06-02T20:28:48.5011567Z",
              "execution_start_time": "2021-06-02T20:31:24.3536483Z",
              "execution_finish_time": "2021-06-02T20:31:26.4171688Z"
            },
            "text/plain": "StatementMeta(idssmall, 0, 119, Finished, Available)"
          },
          "metadata": {}
        },
        {
          "output_type": "stream",
          "name": "stdout",
          "text": "Best Params:\nnumTrees = 50\nmaxDepth = 10\nmaxBins = 32"
        }
      ],
      "metadata": {
        "jupyter": {
          "source_hidden": false,
          "outputs_hidden": false
        },
        "nteract": {
          "transient": {
            "deleting": false
          }
        },
        "collapsed": true
      },
      "source": [
        "# best params\r\n",
        "print(\"Best Params:\")\r\n",
        "hyperparams = cvModel.getEstimatorParamMaps()[np.argmax(cvModel.avgMetrics)]\r\n",
        "for i in hyperparams:\r\n",
        "    param_name = str(i).split(\"_\")[-1]\r\n",
        "    print(\"{} = {}\".format(param_name, hyperparams[i]))"
      ]
    },
    {
      "cell_type": "code",
      "execution_count": 120,
      "outputs": [
        {
          "output_type": "display_data",
          "data": {
            "application/vnd.livy.statement-meta+json": {
              "spark_pool": "idssmall",
              "session_id": 0,
              "statement_id": 120,
              "state": "finished",
              "livy_statement_state": "available",
              "queued_time": "2021-06-02T20:28:48.620689Z",
              "execution_start_time": "2021-06-02T20:31:26.5400157Z",
              "execution_finish_time": "2021-06-02T20:31:28.6123811Z"
            },
            "text/plain": "StatementMeta(idssmall, 0, 120, Finished, Available)"
          },
          "metadata": {}
        },
        {
          "output_type": "stream",
          "name": "stdout",
          "text": ""
        }
      ],
      "metadata": {
        "jupyter": {
          "source_hidden": false,
          "outputs_hidden": false
        },
        "nteract": {
          "transient": {
            "deleting": false
          }
        },
        "collapsed": true
      },
      "source": [
        "# helper function\r\n",
        "def evaluate(predsAndLabels):\r\n",
        "    log = {}\r\n",
        "\r\n",
        "    evaluator = BinaryClassificationEvaluator()\r\n",
        "    # Validation Score (AUROC)\r\n",
        "    log['AUROC'] = \"%f\" % evaluator.evaluate(predsAndLabels,\r\n",
        "                              {evaluator.metricName: \"areaUnderROC\"})\r\n",
        "    # Validation Score (AUPR)\r\n",
        "    log['AUPR'] = \"%f\" % evaluator.evaluate(predsAndLabels,\r\n",
        "                              {evaluator.metricName: \"areaUnderPR\"})\r\n",
        "    \r\n",
        "    print(\"Area under ROC = {}\".format(log['AUROC']))\r\n",
        "    print(\"Area under PR = {}\".format(log['AUPR']))\r\n",
        "\r\n",
        "    # Overall statistics\r\n",
        "    evaluator = MulticlassClassificationEvaluator()\r\n",
        "\r\n",
        "    log['Accuracy'] = \"%f\" % evaluator.evaluate(predsAndLabels,\r\n",
        "                              {evaluator.metricName: \"accuracy\"})\r\n",
        "    print(\"Accuracy = {}\".format(log['Accuracy']))\r\n",
        "\r\n",
        "    log['F1 Measure'] = \"%f\" % evaluator.evaluate(predsAndLabels,\r\n",
        "                              {evaluator.metricName: \"f1\"})\r\n",
        "    log['precision'] = \"%f\" % evaluator.evaluate(predsAndLabels,\r\n",
        "                              {evaluator.metricName: \"weightedPrecision\"}) \r\n",
        "    log['recall'] = \"%f\" % evaluator.evaluate(predsAndLabels,\r\n",
        "                              {evaluator.metricName: \"weightedRecall\"})\r\n",
        "    \r\n",
        "    print(\"[Overall]\\tprecision = %s | recall = %s | F1 Measure = %s\" % \\\r\n",
        "            (log['precision'], log['recall'], log['F1 Measure']))\r\n",
        "\r\n",
        "    return log"
      ]
    },
    {
      "cell_type": "code",
      "execution_count": 121,
      "outputs": [
        {
          "output_type": "display_data",
          "data": {
            "application/vnd.livy.statement-meta+json": {
              "spark_pool": "idssmall",
              "session_id": 0,
              "statement_id": 121,
              "state": "finished",
              "livy_statement_state": "available",
              "queued_time": "2021-06-02T20:28:48.9006291Z",
              "execution_start_time": "2021-06-02T20:31:28.7259486Z",
              "execution_finish_time": "2021-06-02T20:31:43.1867183Z"
            },
            "text/plain": "StatementMeta(idssmall, 0, 121, Finished, Available)"
          },
          "metadata": {}
        },
        {
          "output_type": "stream",
          "name": "stdout",
          "text": ""
        }
      ],
      "metadata": {
        "jupyter": {
          "source_hidden": false,
          "outputs_hidden": false
        },
        "nteract": {
          "transient": {
            "deleting": false
          }
        },
        "collapsed": true
      },
      "source": [
        "paramMap = cvModel.getEstimatorParamMaps()[np.argmax(cvModel.avgMetrics)]\r\n",
        "tunedModel = rf.fit(train, paramMap)"
      ]
    },
    {
      "cell_type": "code",
      "execution_count": 122,
      "outputs": [
        {
          "output_type": "display_data",
          "data": {
            "application/vnd.livy.statement-meta+json": {
              "spark_pool": "idssmall",
              "session_id": 0,
              "statement_id": 122,
              "state": "finished",
              "livy_statement_state": "available",
              "queued_time": "2021-06-02T20:28:49.0955178Z",
              "execution_start_time": "2021-06-02T20:31:43.2902276Z",
              "execution_finish_time": "2021-06-02T20:32:02.1371462Z"
            },
            "text/plain": "StatementMeta(idssmall, 0, 122, Finished, Available)"
          },
          "metadata": {}
        },
        {
          "output_type": "stream",
          "name": "stdout",
          "text": "Area under ROC = 0.999922\nArea under PR = 0.999916\nAccuracy = 0.996413\n[Overall]\tprecision = 0.996427 | recall = 0.996413 | F1 Measure = 0.996412"
        }
      ],
      "metadata": {
        "jupyter": {
          "source_hidden": false,
          "outputs_hidden": false
        },
        "nteract": {
          "transient": {
            "deleting": false
          }
        },
        "collapsed": true
      },
      "source": [
        "predictionAndLabels = tunedModel.transform(train)\r\n",
        "trainLog = evaluate(predictionAndLabels)"
      ]
    },
    {
      "cell_type": "code",
      "execution_count": 123,
      "outputs": [
        {
          "output_type": "display_data",
          "data": {
            "application/vnd.livy.statement-meta+json": {
              "spark_pool": "idssmall",
              "session_id": 0,
              "statement_id": 123,
              "state": "finished",
              "livy_statement_state": "available",
              "queued_time": "2021-06-02T20:28:49.1778211Z",
              "execution_start_time": "2021-06-02T20:32:02.2779747Z",
              "execution_finish_time": "2021-06-02T20:32:16.8537283Z"
            },
            "text/plain": "StatementMeta(idssmall, 0, 123, Finished, Available)"
          },
          "metadata": {}
        },
        {
          "output_type": "stream",
          "name": "stdout",
          "text": "Area under ROC = 0.999743\nArea under PR = 0.999740\nAccuracy = 0.992785\n[Overall]\tprecision = 0.992824 | recall = 0.992785 | F1 Measure = 0.992783"
        }
      ],
      "metadata": {
        "jupyter": {
          "source_hidden": false,
          "outputs_hidden": false
        },
        "nteract": {
          "transient": {
            "deleting": false
          }
        },
        "collapsed": true
      },
      "source": [
        "predictionAndLabels = tunedModel.transform(test)\r\n",
        "testLog = evaluate(predictionAndLabels)"
      ]
    },
    {
      "cell_type": "code",
      "execution_count": null,
      "outputs": [],
      "metadata": {
        "jupyter": {
          "source_hidden": false,
          "outputs_hidden": false
        },
        "nteract": {
          "transient": {
            "deleting": false
          }
        },
        "collapsed": true
      },
      "source": [
        ""
      ]
    }
  ],
  "metadata": {
    "save_output": true,
    "kernelspec": {
      "name": "synapse_pyspark",
      "display_name": "Synapse PySpark"
    },
    "language_info": {
      "name": "python"
    },
    "synapse_widget": {
      "version": "0.1",
      "state": {}
    }
  }
}