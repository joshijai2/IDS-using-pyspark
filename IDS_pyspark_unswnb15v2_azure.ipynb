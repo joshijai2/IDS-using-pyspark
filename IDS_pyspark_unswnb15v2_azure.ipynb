{
  "nbformat": 4,
  "nbformat_minor": 2,
  "metadata": {
    "kernelspec": {
      "name": "synapse_pyspark",
      "display_name": "Synapse PySpark"
    },
    "language_info": {
      "name": "python"
    },
    "save_output": true,
    "synapse_widget": {
      "version": "0.1",
      "state": {}
    }
  },
  "cells": [
    {
      "cell_type": "markdown",
      "metadata": {},
      "source": [
        "# Importing Relevent Libraries"
      ]
    },
    {
      "cell_type": "code",
      "execution_count": 1,
      "outputs": [
        {
          "output_type": "display_data",
          "data": {
            "application/vnd.livy.statement-meta+json": {
              "spark_pool": "idssmall",
              "session_id": 1,
              "statement_id": 1,
              "state": "finished",
              "livy_statement_state": "available",
              "queued_time": "2021-06-02T20:33:52.1565994Z",
              "execution_start_time": "2021-06-02T20:34:53.2066478Z",
              "execution_finish_time": "2021-06-02T20:34:55.2637944Z"
            },
            "text/plain": "StatementMeta(idssmall, 1, 1, Finished, Available)"
          },
          "metadata": {}
        },
        {
          "output_type": "stream",
          "name": "stdout",
          "text": ""
        }
      ],
      "metadata": {
        "jupyter": {
          "source_hidden": false,
          "outputs_hidden": false
        },
        "nteract": {
          "transient": {
            "deleting": false
          }
        },
        "collapsed": false
      },
      "source": [
        "# for data visualization\r\n",
        "import numpy as np\r\n",
        "import pandas as pd\r\n",
        "import seaborn as sns\r\n",
        "import matplotlib.pyplot as plt\r\n",
        "\r\n",
        "# for preprocessing\r\n",
        "import pyspark.sql.functions as F\r\n",
        "from pyspark.ml.stat import Correlation\r\n",
        "from pyspark.ml import Pipeline, PipelineModel\r\n",
        "from pyspark.sql.types import *\r\n",
        "from pyspark.sql.functions import udf\r\n",
        "\r\n",
        "from pyspark.ml.feature import OneHotEncoder, StringIndexer, StandardScaler, Imputer, VectorAssembler, SQLTransformer\r\n",
        "\r\n",
        "# for model building and evaluation\r\n",
        "from pyspark.ml.classification import RandomForestClassifier\r\n",
        "from pyspark.ml.tuning import CrossValidator, ParamGridBuilder, CrossValidatorModel\r\n",
        "from pyspark.ml.evaluation import BinaryClassificationEvaluator, MulticlassClassificationEvaluator\r\n",
        "from pyspark.mllib.evaluation import BinaryClassificationMetrics, MulticlassMetrics\r\n",
        "\r\n",
        "SEED = 0"
      ]
    },
    {
      "cell_type": "markdown",
      "metadata": {},
      "source": [
        "# Load the dataset"
      ]
    },
    {
      "cell_type": "code",
      "execution_count": 3,
      "outputs": [
        {
          "output_type": "display_data",
          "data": {
            "application/vnd.livy.statement-meta+json": {
              "spark_pool": "idssmall",
              "session_id": 1,
              "statement_id": 3,
              "state": "finished",
              "livy_statement_state": "available",
              "queued_time": "2021-06-02T20:36:59.9240656Z",
              "execution_start_time": "2021-06-02T20:37:00.0808157Z",
              "execution_finish_time": "2021-06-02T20:37:29.0166455Z"
            },
            "text/plain": "StatementMeta(idssmall, 1, 3, Finished, Available)"
          },
          "metadata": {}
        },
        {
          "output_type": "stream",
          "name": "stdout",
          "text": "Dataset has 2390275 rows & 44 columns"
        }
      ],
      "metadata": {},
      "source": [
        "df = spark.read.options(header='True', inferSchema='True').csv(\"abfss://idspyspark@idspyspark.dfs.core.windows.net/NF_UNSW_NB15v2.csv\").drop(\"Attack\")\r\n",
        "print(\"Dataset has {} rows & {} columns\".format(df.count(), len(df.columns)))"
      ]
    },
    {
      "cell_type": "code",
      "execution_count": 4,
      "outputs": [
        {
          "output_type": "display_data",
          "data": {
            "application/vnd.livy.statement-meta+json": {
              "spark_pool": "idssmall",
              "session_id": 1,
              "statement_id": 4,
              "state": "finished",
              "livy_statement_state": "available",
              "queued_time": "2021-06-02T20:37:00.050262Z",
              "execution_start_time": "2021-06-02T20:37:29.133229Z",
              "execution_finish_time": "2021-06-02T20:37:31.1867128Z"
            },
            "text/plain": "StatementMeta(idssmall, 1, 4, Finished, Available)"
          },
          "metadata": {}
        },
        {
          "output_type": "stream",
          "name": "stdout",
          "text": "root\n |-- IPV4_SRC_ADDR: string (nullable = true)\n |-- L4_SRC_PORT: integer (nullable = true)\n |-- IPV4_DST_ADDR: string (nullable = true)\n |-- L4_DST_PORT: integer (nullable = true)\n |-- PROTOCOL: integer (nullable = true)\n |-- L7_PROTO: double (nullable = true)\n |-- IN_BYTES: integer (nullable = true)\n |-- IN_PKTS: integer (nullable = true)\n |-- OUT_BYTES: integer (nullable = true)\n |-- OUT_PKTS: integer (nullable = true)\n |-- TCP_FLAGS: integer (nullable = true)\n |-- CLIENT_TCP_FLAGS: integer (nullable = true)\n |-- SERVER_TCP_FLAGS: integer (nullable = true)\n |-- FLOW_DURATION_MILLISECONDS: integer (nullable = true)\n |-- DURATION_IN: integer (nullable = true)\n |-- DURATION_OUT: integer (nullable = true)\n |-- MIN_TTL: integer (nullable = true)\n |-- MAX_TTL: integer (nullable = true)\n |-- LONGEST_FLOW_PKT: integer (nullable = true)\n |-- SHORTEST_FLOW_PKT: integer (nullable = true)\n |-- MIN_IP_PKT_LEN: integer (nullable = true)\n |-- MAX_IP_PKT_LEN: integer (nullable = true)\n |-- SRC_TO_DST_SECOND_BYTES: double (nullable = true)\n |-- DST_TO_SRC_SECOND_BYTES: double (nullable = true)\n |-- RETRANSMITTED_IN_BYTES: integer (nullable = true)\n |-- RETRANSMITTED_IN_PKTS: integer (nullable = true)\n |-- RETRANSMITTED_OUT_BYTES: integer (nullable = true)\n |-- RETRANSMITTED_OUT_PKTS: integer (nullable = true)\n |-- SRC_TO_DST_AVG_THROUGHPUT: long (nullable = true)\n |-- DST_TO_SRC_AVG_THROUGHPUT: long (nullable = true)\n |-- NUM_PKTS_UP_TO_128_BYTES: integer (nullable = true)\n |-- NUM_PKTS_128_TO_256_BYTES: integer (nullable = true)\n |-- NUM_PKTS_256_TO_512_BYTES: integer (nullable = true)\n |-- NUM_PKTS_512_TO_1024_BYTES: integer (nullable = true)\n |-- NUM_PKTS_1024_TO_1514_BYTES: integer (nullable = true)\n |-- TCP_WIN_MAX_IN: integer (nullable = true)\n |-- TCP_WIN_MAX_OUT: integer (nullable = true)\n |-- ICMP_TYPE: integer (nullable = true)\n |-- ICMP_IPV4_TYPE: integer (nullable = true)\n |-- DNS_QUERY_ID: integer (nullable = true)\n |-- DNS_QUERY_TYPE: integer (nullable = true)\n |-- DNS_TTL_ANSWER: long (nullable = true)\n |-- FTP_COMMAND_RET_CODE: double (nullable = true)\n |-- Label: integer (nullable = true)"
        }
      ],
      "metadata": {
        "collapsed": false
      },
      "source": [
        "df.printSchema()"
      ]
    },
    {
      "cell_type": "code",
      "execution_count": 5,
      "outputs": [
        {
          "output_type": "display_data",
          "data": {
            "application/vnd.livy.statement-meta+json": {
              "spark_pool": "idssmall",
              "session_id": 1,
              "statement_id": 5,
              "state": "finished",
              "livy_statement_state": "available",
              "queued_time": "2021-06-02T20:37:00.174548Z",
              "execution_start_time": "2021-06-02T20:37:31.3075624Z",
              "execution_finish_time": "2021-06-02T20:37:35.4332771Z"
            },
            "text/plain": "StatementMeta(idssmall, 1, 5, Finished, Available)"
          },
          "metadata": {}
        },
        {
          "output_type": "stream",
          "name": "stdout",
          "text": "  IPV4_SRC_ADDR  L4_SRC_PORT  ... FTP_COMMAND_RET_CODE  Label\n0    59.166.0.0        11735  ...                  0.0      0\n1    59.166.0.0        34164  ...                  0.0      0\n2    59.166.0.1        38308  ...                  0.0      0\n3    59.166.0.1        12160  ...                  0.0      0\n4    59.166.0.9        13010  ...                  0.0      0\n\n[5 rows x 44 columns]"
        }
      ],
      "metadata": {},
      "source": [
        "df.limit(5).toPandas()"
      ]
    },
    {
      "cell_type": "code",
      "execution_count": 6,
      "outputs": [
        {
          "output_type": "display_data",
          "data": {
            "application/vnd.livy.statement-meta+json": {
              "spark_pool": "idssmall",
              "session_id": 1,
              "statement_id": 6,
              "state": "finished",
              "livy_statement_state": "available",
              "queued_time": "2021-06-02T20:37:00.3043025Z",
              "execution_start_time": "2021-06-02T20:37:35.5624694Z",
              "execution_finish_time": "2021-06-02T20:37:41.8547606Z"
            },
            "text/plain": "StatementMeta(idssmall, 1, 6, Finished, Available)"
          },
          "metadata": {}
        },
        {
          "output_type": "stream",
          "name": "stdout",
          "text": "+-----+\n|Label|\n+-----+\n|    1|\n|    0|\n+-----+"
        }
      ],
      "metadata": {
        "jupyter": {
          "source_hidden": false,
          "outputs_hidden": false
        },
        "nteract": {
          "transient": {
            "deleting": false
          }
        },
        "collapsed": true
      },
      "source": [
        "df.select(\"Label\").distinct().show()"
      ]
    },
    {
      "cell_type": "code",
      "execution_count": 7,
      "outputs": [
        {
          "output_type": "display_data",
          "data": {
            "application/vnd.livy.statement-meta+json": {
              "spark_pool": "idssmall",
              "session_id": 1,
              "statement_id": 7,
              "state": "finished",
              "livy_statement_state": "available",
              "queued_time": "2021-06-02T20:37:00.4220171Z",
              "execution_start_time": "2021-06-02T20:37:41.9615078Z",
              "execution_finish_time": "2021-06-02T20:37:44.0287778Z"
            },
            "text/plain": "StatementMeta(idssmall, 1, 7, Finished, Available)"
          },
          "metadata": {}
        },
        {
          "output_type": "stream",
          "name": "stdout",
          "text": ""
        }
      ],
      "metadata": {
        "jupyter": {
          "source_hidden": false,
          "outputs_hidden": false
        },
        "nteract": {
          "transient": {
            "deleting": false
          }
        },
        "collapsed": true
      },
      "source": [
        "target_col = \"Label\"\r\n",
        "cate_cols = [item[0] for item in df.dtypes if item[1].startswith('string')]\r\n",
        "num_cols = list(set(df.columns) - set(cate_cols) - set([target_col]))"
      ]
    },
    {
      "cell_type": "code",
      "execution_count": 8,
      "outputs": [
        {
          "output_type": "display_data",
          "data": {
            "application/vnd.livy.statement-meta+json": {
              "spark_pool": "idssmall",
              "session_id": 1,
              "statement_id": 8,
              "state": "finished",
              "livy_statement_state": "available",
              "queued_time": "2021-06-02T20:37:00.6175891Z",
              "execution_start_time": "2021-06-02T20:37:44.1451093Z",
              "execution_finish_time": "2021-06-02T20:37:46.2143058Z"
            },
            "text/plain": "StatementMeta(idssmall, 1, 8, Finished, Available)"
          },
          "metadata": {}
        },
        {
          "output_type": "stream",
          "name": "stdout",
          "text": "categorical columns: ['IPV4_SRC_ADDR', 'IPV4_DST_ADDR']\nnumerical columns: ['NUM_PKTS_512_TO_1024_BYTES', 'DST_TO_SRC_SECOND_BYTES', 'RETRANSMITTED_IN_PKTS', 'L4_DST_PORT', 'MIN_IP_PKT_LEN', 'NUM_PKTS_128_TO_256_BYTES', 'RETRANSMITTED_OUT_PKTS', 'MAX_IP_PKT_LEN', 'L4_SRC_PORT', 'OUT_BYTES', 'TCP_WIN_MAX_IN', 'SRC_TO_DST_SECOND_BYTES', 'ICMP_TYPE', 'TCP_WIN_MAX_OUT', 'NUM_PKTS_256_TO_512_BYTES', 'TCP_FLAGS', 'DNS_QUERY_ID', 'SHORTEST_FLOW_PKT', 'ICMP_IPV4_TYPE', 'DURATION_IN', 'SERVER_TCP_FLAGS', 'RETRANSMITTED_OUT_BYTES', 'OUT_PKTS', 'RETRANSMITTED_IN_BYTES', 'MIN_TTL', 'MAX_TTL', 'DNS_QUERY_TYPE', 'IN_BYTES', 'FTP_COMMAND_RET_CODE', 'NUM_PKTS_UP_TO_128_BYTES', 'DURATION_OUT', 'L7_PROTO', 'CLIENT_TCP_FLAGS', 'DNS_TTL_ANSWER', 'DST_TO_SRC_AVG_THROUGHPUT', 'PROTOCOL', 'IN_PKTS', 'NUM_PKTS_1024_TO_1514_BYTES', 'SRC_TO_DST_AVG_THROUGHPUT', 'FLOW_DURATION_MILLISECONDS', 'LONGEST_FLOW_PKT']"
        }
      ],
      "metadata": {
        "jupyter": {
          "source_hidden": false,
          "outputs_hidden": false
        },
        "nteract": {
          "transient": {
            "deleting": false
          }
        },
        "collapsed": true
      },
      "source": [
        "print(\"categorical columns:\", cate_cols)\r\n",
        "print(\"numerical columns:\", num_cols)"
      ]
    },
    {
      "cell_type": "markdown",
      "metadata": {},
      "source": [
        "# Data Analysis and Preprocessing"
      ]
    },
    {
      "cell_type": "markdown",
      "metadata": {
        "nteract": {
          "transient": {
            "deleting": false
          }
        }
      },
      "source": [
        "## Impute missing values"
      ]
    },
    {
      "cell_type": "code",
      "execution_count": 9,
      "outputs": [
        {
          "output_type": "display_data",
          "data": {
            "application/vnd.livy.statement-meta+json": {
              "spark_pool": "idssmall",
              "session_id": 1,
              "statement_id": 9,
              "state": "finished",
              "livy_statement_state": "available",
              "queued_time": "2021-06-02T20:37:00.7954614Z",
              "execution_start_time": "2021-06-02T20:37:46.3220088Z",
              "execution_finish_time": "2021-06-02T20:38:56.6387635Z"
            },
            "text/plain": "StatementMeta(idssmall, 1, 9, Finished, Available)"
          },
          "metadata": {}
        },
        {
          "output_type": "stream",
          "name": "stdout",
          "text": ""
        }
      ],
      "metadata": {
        "jupyter": {
          "source_hidden": false,
          "outputs_hidden": false
        },
        "nteract": {
          "transient": {
            "deleting": false
          }
        },
        "collapsed": true
      },
      "source": [
        "# Impute numerical features\r\n",
        "for col in num_cols:\r\n",
        "    df = df.withColumn(col, df[col].cast('double'))\r\n",
        "    mu = df.select(col).agg({col:'mean'}).collect()[0][0]\r\n",
        "    df = df.withColumn(col, F.when(df[col].isNull(), mu)\\\r\n",
        "                       .otherwise(df[col]))\r\n",
        "\r\n",
        "# Impute categorical features\r\n",
        "for col in cate_cols:\r\n",
        "    frq = df.select(col).groupby(col).count()\\\r\n",
        "                        .orderBy('count', ascending=False) \\\r\n",
        "                        .limit(1).collect()[0][0]\r\n",
        "    df = df.withColumn(col, F.when((df[col].isNull() | \r\n",
        "                                    (df[col] == '')), frq) \\\r\n",
        "                            .otherwise(df[col]))\r\n",
        "\r\n",
        "# Filter missing values\r\n",
        "df = df.withColumn('label', df[target_col].cast('double'))\r\n",
        "df = df.filter(df['label'].isNotNull())"
      ]
    },
    {
      "cell_type": "code",
      "execution_count": 10,
      "outputs": [
        {
          "output_type": "display_data",
          "data": {
            "application/vnd.livy.statement-meta+json": {
              "spark_pool": "idssmall",
              "session_id": 1,
              "statement_id": 10,
              "state": "finished",
              "livy_statement_state": "available",
              "queued_time": "2021-06-02T20:37:00.9011936Z",
              "execution_start_time": "2021-06-02T20:38:56.7578422Z",
              "execution_finish_time": "2021-06-02T20:38:58.8123983Z"
            },
            "text/plain": "StatementMeta(idssmall, 1, 10, Finished, Available)"
          },
          "metadata": {}
        },
        {
          "output_type": "stream",
          "name": "stdout",
          "text": ""
        }
      ],
      "metadata": {},
      "source": [
        "# df.createOrReplaceTempView(\"network_traffic\")\n",
        "# spark.sql(\"SELECT duration from network_traffic\").show()"
      ]
    },
    {
      "cell_type": "markdown",
      "metadata": {},
      "source": [
        "## Exploratory Data Analysis\n",
        "We plot various graphs to identify distributions, relationships or any pattern that is not visible by seeing raw data."
      ]
    },
    {
      "cell_type": "code",
      "execution_count": 11,
      "outputs": [
        {
          "output_type": "display_data",
          "data": {
            "application/vnd.livy.statement-meta+json": {
              "spark_pool": "idssmall",
              "session_id": 1,
              "statement_id": 11,
              "state": "finished",
              "livy_statement_state": "available",
              "queued_time": "2021-06-02T20:37:01.0108776Z",
              "execution_start_time": "2021-06-02T20:38:58.9198461Z",
              "execution_finish_time": "2021-06-02T20:39:10.4533451Z"
            },
            "text/plain": "StatementMeta(idssmall, 1, 11, Finished, Available)"
          },
          "metadata": {}
        },
        {
          "output_type": "stream",
          "name": "stdout",
          "text": ""
        }
      ],
      "metadata": {
        "scrolled": true
      },
      "source": [
        "df_pandas = df.toPandas()"
      ]
    },
    {
      "cell_type": "code",
      "execution_count": 12,
      "outputs": [
        {
          "output_type": "display_data",
          "data": {
            "application/vnd.livy.statement-meta+json": {
              "spark_pool": "idssmall",
              "session_id": 1,
              "statement_id": 12,
              "state": "finished",
              "livy_statement_state": "available",
              "queued_time": "2021-06-02T20:37:01.1032748Z",
              "execution_start_time": "2021-06-02T20:39:10.576093Z",
              "execution_finish_time": "2021-06-02T20:39:12.6464137Z"
            },
            "text/plain": "StatementMeta(idssmall, 1, 12, Finished, Available)"
          },
          "metadata": {}
        },
        {
          "output_type": "display_data",
          "data": {
            "image/png": "[encoded data removed]"
          },
          "metadata": {}
        },
        {
          "output_type": "execute_result",
          "data": {},
          "execution_count": 12,
          "metadata": {}
        }
      ],
      "metadata": {
        "collapsed": false
      },
      "source": [
        "sns.countplot(x=df_pandas['label'])\n",
        "plt.show()"
      ]
    },
    {
      "cell_type": "code",
      "execution_count": 13,
      "outputs": [
        {
          "output_type": "display_data",
          "data": {
            "application/vnd.livy.statement-meta+json": {
              "spark_pool": "idssmall",
              "session_id": 1,
              "statement_id": 13,
              "state": "finished",
              "livy_statement_state": "available",
              "queued_time": "2021-06-02T20:37:01.1965743Z",
              "execution_start_time": "2021-06-02T20:39:12.7753088Z",
              "execution_finish_time": "2021-06-02T20:39:16.9054135Z"
            },
            "text/plain": "StatementMeta(idssmall, 1, 13, Finished, Available)"
          },
          "metadata": {}
        },
        {
          "output_type": "display_data",
          "data": {
            "image/png": "[encoded data removed]"
          },
          "metadata": {}
        },
        {
          "output_type": "execute_result",
          "data": {},
          "execution_count": 13,
          "metadata": {}
        }
      ],
      "metadata": {
        "collapsed": false
      },
      "source": [
        "plt.figure(figsize=(12,6))\n",
        "plt.xticks(rotation=90)\n",
        "sns.countplot(x=cate_cols[0], data=df_pandas, hue=\"label\")\n",
        "plt.show()"
      ]
    },
    {
      "cell_type": "code",
      "execution_count": 14,
      "outputs": [
        {
          "output_type": "display_data",
          "data": {
            "application/vnd.livy.statement-meta+json": {
              "spark_pool": "idssmall",
              "session_id": 1,
              "statement_id": 14,
              "state": "finished",
              "livy_statement_state": "available",
              "queued_time": "2021-06-02T20:37:01.2918991Z",
              "execution_start_time": "2021-06-02T20:39:17.041913Z",
              "execution_finish_time": "2021-06-02T20:39:21.1996868Z"
            },
            "text/plain": "StatementMeta(idssmall, 1, 14, Finished, Available)"
          },
          "metadata": {}
        },
        {
          "output_type": "display_data",
          "data": {
            "image/png": "[encoded data removed]"
          },
          "metadata": {}
        },
        {
          "output_type": "execute_result",
          "data": {},
          "execution_count": 14,
          "metadata": {}
        }
      ],
      "metadata": {
        "collapsed": false,
        "scrolled": false
      },
      "source": [
        "plt.figure(figsize=(12,6))\n",
        "plt.xticks(rotation=90)\n",
        "sns.countplot(x=cate_cols[1], data=df_pandas, hue=\"label\")\n",
        "plt.show()"
      ]
    },
    {
      "cell_type": "code",
      "execution_count": 15,
      "outputs": [
        {
          "output_type": "display_data",
          "data": {
            "application/vnd.livy.statement-meta+json": {
              "spark_pool": "idssmall",
              "session_id": 1,
              "statement_id": 15,
              "state": "finished",
              "livy_statement_state": "available",
              "queued_time": "2021-06-02T20:37:01.3764606Z",
              "execution_start_time": "2021-06-02T20:39:21.3309099Z",
              "execution_finish_time": "2021-06-02T20:39:23.403903Z"
            },
            "text/plain": "StatementMeta(idssmall, 1, 15, Finished, Available)"
          },
          "metadata": {}
        },
        {
          "output_type": "stream",
          "name": "stdout",
          "text": ""
        }
      ],
      "metadata": {
        "collapsed": false
      },
      "source": [
        "# n=len(num_cols)\n",
        "# fig, axs = plt.subplots(n, figsize=(16,8*n))\n",
        "\n",
        "# for ax,col in zip(axs,num_cols):\n",
        "#     try:\n",
        "#         sns.histplot(df_pandas[col], ax=ax)\n",
        "#         for t in ax.get_xticklabels():\n",
        "#             t.set_rotation(90)\n",
        "#     except:\n",
        "#         print(\"Error in visualizing\",col)\n",
        "\n",
        "# plt.show()"
      ]
    },
    {
      "cell_type": "markdown",
      "metadata": {
        "nteract": {
          "transient": {
            "deleting": false
          }
        }
      },
      "source": [
        "## Data Encoding and Scaling"
      ]
    },
    {
      "cell_type": "code",
      "execution_count": 16,
      "outputs": [
        {
          "output_type": "display_data",
          "data": {
            "application/vnd.livy.statement-meta+json": {
              "spark_pool": "idssmall",
              "session_id": 1,
              "statement_id": 16,
              "state": "finished",
              "livy_statement_state": "available",
              "queued_time": "2021-06-02T20:37:01.4915414Z",
              "execution_start_time": "2021-06-02T20:39:23.525429Z",
              "execution_finish_time": "2021-06-02T20:39:23.5254318Z"
            },
            "text/plain": "StatementMeta(idssmall, 1, 16, Finished, Available)"
          },
          "metadata": {}
        },
        {
          "output_type": "stream",
          "name": "stdout",
          "text": ""
        }
      ],
      "metadata": {
        "jupyter": {
          "source_hidden": false,
          "outputs_hidden": false
        },
        "nteract": {
          "transient": {
            "deleting": false
          }
        },
        "collapsed": true
      },
      "source": [
        "# helper function\r\n",
        "def gen_preprocessor(df):\r\n",
        "    # String Indexing for categorical features\r\n",
        "    indexers = [StringIndexer(inputCol=col, \r\n",
        "                              outputCol=\"{}_idx\".format(col),\r\n",
        "                              handleInvalid=\"keep\") \\\r\n",
        "                              for col in cate_cols]\r\n",
        "    \r\n",
        "    # One-hot encoding for categorical features\r\n",
        "    encoders = [OneHotEncoder(inputCol=\"{}_idx\".format(col), \r\n",
        "                              outputCol=\"{}_oh\".format(col)) \\\r\n",
        "                              for col in cate_cols]\r\n",
        "\r\n",
        "    # Concat Feature Columns\r\n",
        "    assembler = VectorAssembler(inputCols = num_cols + \\\r\n",
        "                            [\"{}_oh\".format(col) for col in cate_cols], \r\n",
        "                            outputCol = \"_features\")\r\n",
        "    \r\n",
        "    # Standardize Features\r\n",
        "    scaler = StandardScaler(inputCol='_features', \r\n",
        "                            outputCol='features')\r\n",
        "\r\n",
        "    preprocessor = Pipeline(stages = indexers + encoders + \\\r\n",
        "                                     [assembler, scaler]).fit(df)\r\n",
        "\r\n",
        "    return preprocessor"
      ]
    },
    {
      "cell_type": "code",
      "execution_count": 17,
      "outputs": [
        {
          "output_type": "display_data",
          "data": {
            "application/vnd.livy.statement-meta+json": {
              "spark_pool": "idssmall",
              "session_id": 1,
              "statement_id": 17,
              "state": "finished",
              "livy_statement_state": "available",
              "queued_time": "2021-06-02T20:37:01.5771793Z",
              "execution_start_time": "2021-06-02T20:39:23.6405291Z",
              "execution_finish_time": "2021-06-02T20:39:36.0418509Z"
            },
            "text/plain": "StatementMeta(idssmall, 1, 17, Finished, Available)"
          },
          "metadata": {}
        },
        {
          "output_type": "stream",
          "name": "stdout",
          "text": ""
        }
      ],
      "metadata": {
        "jupyter": {
          "source_hidden": false,
          "outputs_hidden": false
        },
        "nteract": {
          "transient": {
            "deleting": false
          }
        },
        "collapsed": true
      },
      "source": [
        "# Pre-Process\r\n",
        "preprocessor = gen_preprocessor(df)   \r\n",
        "df = preprocessor.transform(df)[\"features\",\"label\"]"
      ]
    },
    {
      "cell_type": "code",
      "execution_count": 18,
      "outputs": [
        {
          "output_type": "display_data",
          "data": {
            "application/vnd.livy.statement-meta+json": {
              "spark_pool": "idssmall",
              "session_id": 1,
              "statement_id": 18,
              "state": "finished",
              "livy_statement_state": "available",
              "queued_time": "2021-06-02T20:37:01.6611397Z",
              "execution_start_time": "2021-06-02T20:39:36.1913401Z",
              "execution_finish_time": "2021-06-02T20:39:50.8438908Z"
            },
            "text/plain": "StatementMeta(idssmall, 1, 18, Finished, Available)"
          },
          "metadata": {}
        },
        {
          "output_type": "stream",
          "name": "stdout",
          "text": "Pearson correlation matrix:\nDenseMatrix([[ 1.00000000e+00,  4.45387854e-02,  2.86804496e-01, ...,\n              -5.61585327e-04, -1.40395891e-04, -1.40395891e-04],\n             [ 4.45387854e-02,  1.00000000e+00,  7.42157296e-04, ...,\n               1.69406589e-21,  4.23516474e-22, -1.54182800e-06],\n             [ 2.86804496e-01,  7.42157296e-04,  1.00000000e+00, ...,\n              -5.11226368e-04, -1.27806191e-04, -1.27806191e-04],\n             ...,\n             [-5.61585327e-04,  1.69406589e-21, -5.11226368e-04, ...,\n               1.00000000e+00, -1.67345357e-06, -1.67345357e-06],\n             [-1.40395891e-04,  4.23516474e-22, -1.27806191e-04, ...,\n              -1.67345357e-06,  1.00000000e+00, -4.18362079e-07],\n             [-1.40395891e-04, -1.54182800e-06, -1.27806191e-04, ...,\n              -1.67345357e-06, -4.18362079e-07,  1.00000000e+00]])"
        }
      ],
      "metadata": {
        "jupyter": {
          "source_hidden": false,
          "outputs_hidden": false
        },
        "nteract": {
          "transient": {
            "deleting": false
          }
        },
        "collapsed": true
      },
      "source": [
        "r1 = Correlation.corr(df, \"features\").head()\r\n",
        "print(\"Pearson correlation matrix:\\n\" + str(r1[0]))"
      ]
    },
    {
      "cell_type": "code",
      "execution_count": 19,
      "outputs": [
        {
          "output_type": "display_data",
          "data": {
            "application/vnd.livy.statement-meta+json": {
              "spark_pool": "idssmall",
              "session_id": 1,
              "statement_id": 19,
              "state": "finished",
              "livy_statement_state": "available",
              "queued_time": "2021-06-02T20:37:01.7467096Z",
              "execution_start_time": "2021-06-02T20:39:50.9693264Z",
              "execution_finish_time": "2021-06-02T20:39:53.0666811Z"
            },
            "text/plain": "StatementMeta(idssmall, 1, 19, Finished, Available)"
          },
          "metadata": {}
        },
        {
          "output_type": "display_data",
          "data": {
            "image/png": "[encoded data removed]"
          },
          "metadata": {}
        },
        {
          "output_type": "execute_result",
          "data": {},
          "execution_count": 19,
          "metadata": {}
        }
      ],
      "metadata": {
        "jupyter": {
          "source_hidden": false,
          "outputs_hidden": false
        },
        "nteract": {
          "transient": {
            "deleting": false
          }
        },
        "collapsed": false
      },
      "source": [
        "pcorr = np.array(list(map(abs,r1[0].toArray())))\r\n",
        "plt.figure(figsize=(16,12))\r\n",
        "sns.heatmap(pcorr)\r\n",
        "plt.show()"
      ]
    },
    {
      "cell_type": "markdown",
      "metadata": {
        "nteract": {
          "transient": {
            "deleting": false
          }
        }
      },
      "source": [
        "## Train Test Split"
      ]
    },
    {
      "cell_type": "code",
      "execution_count": 20,
      "outputs": [
        {
          "output_type": "display_data",
          "data": {
            "application/vnd.livy.statement-meta+json": {
              "spark_pool": "idssmall",
              "session_id": 1,
              "statement_id": 20,
              "state": "finished",
              "livy_statement_state": "available",
              "queued_time": "2021-06-02T20:37:01.8444628Z",
              "execution_start_time": "2021-06-02T20:39:53.2129293Z",
              "execution_finish_time": "2021-06-02T20:40:07.6601686Z"
            },
            "text/plain": "StatementMeta(idssmall, 1, 20, Finished, Available)"
          },
          "metadata": {}
        },
        {
          "output_type": "stream",
          "name": "stdout",
          "text": "Training data has 1672977 rows, while testing data has 717298 rows"
        }
      ],
      "metadata": {
        "jupyter": {
          "source_hidden": false,
          "outputs_hidden": false
        },
        "nteract": {
          "transient": {
            "deleting": false
          }
        },
        "collapsed": true
      },
      "source": [
        "train, test = df.randomSplit([0.7, 0.3], seed=SEED)\r\n",
        "print(\"Training data has {} rows, while testing data has {} rows\".format(train.count(), test.count()))"
      ]
    },
    {
      "cell_type": "markdown",
      "metadata": {
        "nteract": {
          "transient": {
            "deleting": false
          }
        }
      },
      "source": [
        "# Model Training"
      ]
    },
    {
      "cell_type": "markdown",
      "metadata": {
        "nteract": {
          "transient": {
            "deleting": false
          }
        }
      },
      "source": [
        "## Random Forest Classifier"
      ]
    },
    {
      "cell_type": "code",
      "execution_count": 21,
      "outputs": [
        {
          "output_type": "display_data",
          "data": {
            "application/vnd.livy.statement-meta+json": {
              "spark_pool": "idssmall",
              "session_id": 1,
              "statement_id": 21,
              "state": "finished",
              "livy_statement_state": "available",
              "queued_time": "2021-06-02T20:37:01.9310826Z",
              "execution_start_time": "2021-06-02T20:40:07.7753616Z",
              "execution_finish_time": "2021-06-02T20:40:09.8265536Z"
            },
            "text/plain": "StatementMeta(idssmall, 1, 21, Finished, Available)"
          },
          "metadata": {}
        },
        {
          "output_type": "stream",
          "name": "stdout",
          "text": ""
        }
      ],
      "metadata": {},
      "source": [
        "rf = RandomForestClassifier()"
      ]
    },
    {
      "cell_type": "code",
      "execution_count": 22,
      "outputs": [
        {
          "output_type": "display_data",
          "data": {
            "application/vnd.livy.statement-meta+json": {
              "spark_pool": "idssmall",
              "session_id": 1,
              "statement_id": 22,
              "state": "finished",
              "livy_statement_state": "available",
              "queued_time": "2021-06-02T20:37:02.0257919Z",
              "execution_start_time": "2021-06-02T20:40:09.949168Z",
              "execution_finish_time": "2021-06-02T20:40:12.0159839Z"
            },
            "text/plain": "StatementMeta(idssmall, 1, 22, Finished, Available)"
          },
          "metadata": {}
        },
        {
          "output_type": "stream",
          "name": "stdout",
          "text": ""
        }
      ],
      "metadata": {
        "jupyter": {
          "source_hidden": false,
          "outputs_hidden": false
        },
        "nteract": {
          "transient": {
            "deleting": false
          }
        },
        "collapsed": true
      },
      "source": [
        "paramGrid = ParamGridBuilder() \\\r\n",
        "            .addGrid(rf.numTrees, [50]) \\\r\n",
        "            .addGrid(rf.maxDepth, [10]) \\\r\n",
        "            .addGrid(rf.maxBins, [32]) \\\r\n",
        "            .build()"
      ]
    },
    {
      "cell_type": "code",
      "execution_count": 23,
      "outputs": [
        {
          "output_type": "display_data",
          "data": {
            "application/vnd.livy.statement-meta+json": {
              "spark_pool": "idssmall",
              "session_id": 1,
              "statement_id": 23,
              "state": "finished",
              "livy_statement_state": "available",
              "queued_time": "2021-06-02T20:37:02.1123832Z",
              "execution_start_time": "2021-06-02T20:40:12.1232688Z",
              "execution_finish_time": "2021-06-02T20:44:06.7621236Z"
            },
            "text/plain": "StatementMeta(idssmall, 1, 23, Finished, Available)"
          },
          "metadata": {}
        },
        {
          "output_type": "stream",
          "name": "stdout",
          "text": ""
        }
      ],
      "metadata": {
        "jupyter": {
          "source_hidden": false,
          "outputs_hidden": false
        },
        "nteract": {
          "transient": {
            "deleting": false
          }
        },
        "collapsed": true
      },
      "source": [
        "# Train the 5-fold Cross Validator\r\n",
        "cvModel = CrossValidator(estimator=Pipeline(stages = [rf]),\r\n",
        "            estimatorParamMaps=paramGrid,\r\n",
        "            evaluator=MulticlassClassificationEvaluator(),\r\n",
        "            numFolds=5).fit(train)\r\n",
        ""
      ]
    },
    {
      "cell_type": "code",
      "execution_count": 24,
      "outputs": [
        {
          "output_type": "display_data",
          "data": {
            "application/vnd.livy.statement-meta+json": {
              "spark_pool": "idssmall",
              "session_id": 1,
              "statement_id": 24,
              "state": "finished",
              "livy_statement_state": "available",
              "queued_time": "2021-06-02T20:37:02.2086594Z",
              "execution_start_time": "2021-06-02T20:44:06.9801008Z",
              "execution_finish_time": "2021-06-02T20:44:09.0427068Z"
            },
            "text/plain": "StatementMeta(idssmall, 1, 24, Finished, Available)"
          },
          "metadata": {}
        },
        {
          "output_type": "stream",
          "name": "stdout",
          "text": "Best Params:\nnumTrees = 50\nmaxDepth = 10\nmaxBins = 32"
        }
      ],
      "metadata": {
        "jupyter": {
          "source_hidden": false,
          "outputs_hidden": false
        },
        "nteract": {
          "transient": {
            "deleting": false
          }
        },
        "collapsed": true
      },
      "source": [
        "# best params\r\n",
        "bestParams=\"\"\r\n",
        "print(\"Best Params:\")\r\n",
        "\r\n",
        "hyperparams = cvModel.getEstimatorParamMaps()[np.argmax(cvModel.avgMetrics)]\r\n",
        "for i in hyperparams:\r\n",
        "    param_name = str(i).split(\"_\")[-1]\r\n",
        "    bestParams+=\"{} = {}\\n\".format(param_name, hyperparams[i])\r\n",
        "\r\n",
        "print(bestParams)\r\n",
        "# Best Params:\r\n",
        "# numTrees = 50\r\n",
        "# maxDepth = 10\r\n",
        "# maxBins = 32"
      ]
    },
    {
      "cell_type": "code",
      "execution_count": 25,
      "outputs": [
        {
          "output_type": "display_data",
          "data": {
            "application/vnd.livy.statement-meta+json": {
              "spark_pool": "idssmall",
              "session_id": 1,
              "statement_id": 25,
              "state": "finished",
              "livy_statement_state": "available",
              "queued_time": "2021-06-02T20:37:02.3001598Z",
              "execution_start_time": "2021-06-02T20:44:09.15718Z",
              "execution_finish_time": "2021-06-02T20:44:11.226975Z"
            },
            "text/plain": "StatementMeta(idssmall, 1, 25, Finished, Available)"
          },
          "metadata": {}
        },
        {
          "output_type": "stream",
          "name": "stdout",
          "text": ""
        }
      ],
      "metadata": {
        "jupyter": {
          "source_hidden": false,
          "outputs_hidden": false
        },
        "nteract": {
          "transient": {
            "deleting": false
          }
        },
        "collapsed": true
      },
      "source": [
        "# helper function\r\n",
        "def evaluate(predsAndLabels):\r\n",
        "    log = {}\r\n",
        "\r\n",
        "    evaluator = BinaryClassificationEvaluator()\r\n",
        "    # Validation Score (AUROC)\r\n",
        "    log['AUROC'] = \"%f\" % evaluator.evaluate(predsAndLabels,\r\n",
        "                              {evaluator.metricName: \"areaUnderROC\"})\r\n",
        "    # Validation Score (AUPR)\r\n",
        "    log['AUPR'] = \"%f\" % evaluator.evaluate(predsAndLabels,\r\n",
        "                              {evaluator.metricName: \"areaUnderPR\"})\r\n",
        "    \r\n",
        "    print(\"Area under ROC = {}\".format(log['AUROC']))\r\n",
        "    print(\"Area under PR = {}\".format(log['AUPR']))\r\n",
        "\r\n",
        "    # Overall statistics\r\n",
        "    evaluator = MulticlassClassificationEvaluator()\r\n",
        "\r\n",
        "    log['Accuracy'] = \"%f\" % evaluator.evaluate(predsAndLabels,\r\n",
        "                              {evaluator.metricName: \"accuracy\"})\r\n",
        "    print(\"Accuracy = {}\".format(log['Accuracy']))\r\n",
        "\r\n",
        "    log['F1 Measure'] = \"%f\" % evaluator.evaluate(predsAndLabels,\r\n",
        "                              {evaluator.metricName: \"f1\"})\r\n",
        "    log['precision'] = \"%f\" % evaluator.evaluate(predsAndLabels,\r\n",
        "                              {evaluator.metricName: \"weightedPrecision\"}) \r\n",
        "    log['recall'] = \"%f\" % evaluator.evaluate(predsAndLabels,\r\n",
        "                              {evaluator.metricName: \"weightedRecall\"})\r\n",
        "    \r\n",
        "    print(\"[Overall]\\tprecision = %s | recall = %s | F1 Measure = %s\" % \\\r\n",
        "            (log['precision'], log['recall'], log['F1 Measure']))\r\n",
        "\r\n",
        "    return log"
      ]
    },
    {
      "cell_type": "code",
      "execution_count": 26,
      "outputs": [
        {
          "output_type": "display_data",
          "data": {
            "application/vnd.livy.statement-meta+json": {
              "spark_pool": "idssmall",
              "session_id": 1,
              "statement_id": 26,
              "state": "finished",
              "livy_statement_state": "available",
              "queued_time": "2021-06-02T20:37:02.394679Z",
              "execution_start_time": "2021-06-02T20:44:11.3520064Z",
              "execution_finish_time": "2021-06-02T20:45:03.0239398Z"
            },
            "text/plain": "StatementMeta(idssmall, 1, 26, Finished, Available)"
          },
          "metadata": {}
        },
        {
          "output_type": "stream",
          "name": "stdout",
          "text": ""
        }
      ],
      "metadata": {
        "jupyter": {
          "source_hidden": false,
          "outputs_hidden": false
        },
        "nteract": {
          "transient": {
            "deleting": false
          }
        },
        "collapsed": true
      },
      "source": [
        "paramMap = cvModel.getEstimatorParamMaps()[np.argmax(cvModel.avgMetrics)]\r\n",
        "tunedModel = rf.fit(train, paramMap)"
      ]
    },
    {
      "cell_type": "code",
      "execution_count": 27,
      "outputs": [
        {
          "output_type": "display_data",
          "data": {
            "application/vnd.livy.statement-meta+json": {
              "spark_pool": "idssmall",
              "session_id": 1,
              "statement_id": 27,
              "state": "finished",
              "livy_statement_state": "available",
              "queued_time": "2021-06-02T20:37:02.4912765Z",
              "execution_start_time": "2021-06-02T20:45:03.1496217Z",
              "execution_finish_time": "2021-06-02T20:46:26.4652144Z"
            },
            "text/plain": "StatementMeta(idssmall, 1, 27, Finished, Available)"
          },
          "metadata": {}
        },
        {
          "output_type": "stream",
          "name": "stdout",
          "text": "Area under ROC = 0.999697\nArea under PR = 0.991605\nAccuracy = 0.996322\n[Overall]\tprecision = 0.996607 | recall = 0.996322 | F1 Measure = 0.996395"
        }
      ],
      "metadata": {
        "jupyter": {
          "source_hidden": false,
          "outputs_hidden": false
        },
        "nteract": {
          "transient": {
            "deleting": false
          }
        },
        "collapsed": true
      },
      "source": [
        "predictionAndLabels = tunedModel.transform(train)\r\n",
        "trainLog = evaluate(predictionAndLabels)"
      ]
    },
    {
      "cell_type": "code",
      "execution_count": 28,
      "outputs": [
        {
          "output_type": "display_data",
          "data": {
            "application/vnd.livy.statement-meta+json": {
              "spark_pool": "idssmall",
              "session_id": 1,
              "statement_id": 28,
              "state": "finished",
              "livy_statement_state": "available",
              "queued_time": "2021-06-02T20:37:02.5799524Z",
              "execution_start_time": "2021-06-02T20:46:26.6418579Z",
              "execution_finish_time": "2021-06-02T20:47:45.4103796Z"
            },
            "text/plain": "StatementMeta(idssmall, 1, 28, Finished, Available)"
          },
          "metadata": {}
        },
        {
          "output_type": "stream",
          "name": "stdout",
          "text": "Area under ROC = 0.999655\nArea under PR = 0.990239\nAccuracy = 0.996168\n[Overall]\tprecision = 0.996475 | recall = 0.996168 | F1 Measure = 0.996247"
        }
      ],
      "metadata": {
        "jupyter": {
          "source_hidden": false,
          "outputs_hidden": false
        },
        "nteract": {
          "transient": {
            "deleting": false
          }
        },
        "collapsed": true
      },
      "source": [
        "predictionAndLabels = cvModel.transform(test)\r\n",
        "testLog = evaluate(predictionAndLabels)"
      ]
    },
    {
      "cell_type": "code",
      "execution_count": null,
      "outputs": [],
      "metadata": {
        "jupyter": {
          "source_hidden": false,
          "outputs_hidden": false
        },
        "nteract": {
          "transient": {
            "deleting": false
          }
        },
        "collapsed": true
      },
      "source": [
        ""
      ]
    }
  ]
}