{
  "cells": [
    {
      "cell_type": "markdown",
      "source": [
        "# Importing Relevent Libraries"
      ],
      "metadata": {}
    },
    {
      "cell_type": "code",
      "source": [
        "# for data visualization\r\n",
        "import numpy as np\r\n",
        "import pandas as pd\r\n",
        "import seaborn as sns\r\n",
        "import matplotlib.pyplot as plt\r\n",
        "\r\n",
        "# for preprocessing\r\n",
        "import pyspark.sql.functions as F\r\n",
        "from pyspark.ml.stat import Correlation\r\n",
        "from pyspark.ml import Pipeline, PipelineModel\r\n",
        "from pyspark.sql.types import *\r\n",
        "from pyspark.sql.functions import udf\r\n",
        "\r\n",
        "from pyspark.ml.feature import OneHotEncoder, StringIndexer, StandardScaler, VectorAssembler, PCA\r\n",
        "\r\n",
        "# for model building and evaluation\r\n",
        "from pyspark.ml.classification import RandomForestClassifier\r\n",
        "from pyspark.ml.tuning import CrossValidator, ParamGridBuilder, CrossValidatorModel\r\n",
        "from pyspark.ml.evaluation import BinaryClassificationEvaluator, MulticlassClassificationEvaluator\r\n",
        "from pyspark.mllib.evaluation import BinaryClassificationMetrics, MulticlassMetrics\r\n",
        "\r\n",
        "SEED = 0"
      ],
      "outputs": [
        {
          "output_type": "display_data",
          "data": {
            "application/vnd.livy.statement-meta+json": {
              "spark_pool": "idssmall",
              "session_id": 2,
              "statement_id": 23,
              "state": "finished",
              "livy_statement_state": "available",
              "queued_time": "2021-06-02T21:02:01.6445313Z",
              "execution_start_time": "2021-06-02T21:02:01.7931546Z",
              "execution_finish_time": "2021-06-02T21:02:03.8569131Z"
            },
            "text/plain": "StatementMeta(idssmall, 2, 23, Finished, Available)"
          },
          "metadata": {}
        },
        {
          "output_type": "stream",
          "name": "stdout",
          "text": []
        }
      ],
      "execution_count": 23,
      "metadata": {
        "jupyter": {
          "source_hidden": false,
          "outputs_hidden": false
        },
        "nteract": {
          "transient": {
            "deleting": false
          }
        },
        "collapsed": false
      }
    },
    {
      "cell_type": "markdown",
      "source": [
        "# Load the dataset"
      ],
      "metadata": {}
    },
    {
      "cell_type": "code",
      "source": [
        "df = spark.read.options(header='True', inferSchema='True').csv(\"abfss://idspyspark@idspyspark.dfs.core.windows.net/NF_UNSW_NB15v2.csv\").drop(\"Attack\")\r\n",
        "print(\"Dataset has {} rows & {} columns\".format(df.count(), len(df.columns)))"
      ],
      "outputs": [
        {
          "output_type": "display_data",
          "data": {
            "application/vnd.livy.statement-meta+json": {
              "spark_pool": "idssmall",
              "session_id": 2,
              "statement_id": 3,
              "state": "finished",
              "livy_statement_state": "available",
              "queued_time": "2021-06-02T20:50:27.8221518Z",
              "execution_start_time": "2021-06-02T20:50:30.040504Z",
              "execution_finish_time": "2021-06-02T20:51:01.2835094Z"
            },
            "text/plain": "StatementMeta(idssmall, 2, 3, Finished, Available)"
          },
          "metadata": {}
        },
        {
          "output_type": "stream",
          "name": "stdout",
          "text": [
            "Dataset has 2390275 rows & 44 columns"
          ]
        }
      ],
      "execution_count": 3,
      "metadata": {}
    },
    {
      "cell_type": "code",
      "source": [
        "df.printSchema()"
      ],
      "outputs": [
        {
          "output_type": "display_data",
          "data": {
            "application/vnd.livy.statement-meta+json": {
              "spark_pool": "idssmall",
              "session_id": 2,
              "statement_id": 4,
              "state": "finished",
              "livy_statement_state": "available",
              "queued_time": "2021-06-02T20:50:27.9632882Z",
              "execution_start_time": "2021-06-02T20:51:01.4106708Z",
              "execution_finish_time": "2021-06-02T20:51:03.472183Z"
            },
            "text/plain": "StatementMeta(idssmall, 2, 4, Finished, Available)"
          },
          "metadata": {}
        },
        {
          "output_type": "stream",
          "name": "stdout",
          "text": [
            "root\n",
            " |-- IPV4_SRC_ADDR: string (nullable = true)\n",
            " |-- L4_SRC_PORT: integer (nullable = true)\n",
            " |-- IPV4_DST_ADDR: string (nullable = true)\n",
            " |-- L4_DST_PORT: integer (nullable = true)\n",
            " |-- PROTOCOL: integer (nullable = true)\n",
            " |-- L7_PROTO: double (nullable = true)\n",
            " |-- IN_BYTES: integer (nullable = true)\n",
            " |-- IN_PKTS: integer (nullable = true)\n",
            " |-- OUT_BYTES: integer (nullable = true)\n",
            " |-- OUT_PKTS: integer (nullable = true)\n",
            " |-- TCP_FLAGS: integer (nullable = true)\n",
            " |-- CLIENT_TCP_FLAGS: integer (nullable = true)\n",
            " |-- SERVER_TCP_FLAGS: integer (nullable = true)\n",
            " |-- FLOW_DURATION_MILLISECONDS: integer (nullable = true)\n",
            " |-- DURATION_IN: integer (nullable = true)\n",
            " |-- DURATION_OUT: integer (nullable = true)\n",
            " |-- MIN_TTL: integer (nullable = true)\n",
            " |-- MAX_TTL: integer (nullable = true)\n",
            " |-- LONGEST_FLOW_PKT: integer (nullable = true)\n",
            " |-- SHORTEST_FLOW_PKT: integer (nullable = true)\n",
            " |-- MIN_IP_PKT_LEN: integer (nullable = true)\n",
            " |-- MAX_IP_PKT_LEN: integer (nullable = true)\n",
            " |-- SRC_TO_DST_SECOND_BYTES: double (nullable = true)\n",
            " |-- DST_TO_SRC_SECOND_BYTES: double (nullable = true)\n",
            " |-- RETRANSMITTED_IN_BYTES: integer (nullable = true)\n",
            " |-- RETRANSMITTED_IN_PKTS: integer (nullable = true)\n",
            " |-- RETRANSMITTED_OUT_BYTES: integer (nullable = true)\n",
            " |-- RETRANSMITTED_OUT_PKTS: integer (nullable = true)\n",
            " |-- SRC_TO_DST_AVG_THROUGHPUT: long (nullable = true)\n",
            " |-- DST_TO_SRC_AVG_THROUGHPUT: long (nullable = true)\n",
            " |-- NUM_PKTS_UP_TO_128_BYTES: integer (nullable = true)\n",
            " |-- NUM_PKTS_128_TO_256_BYTES: integer (nullable = true)\n",
            " |-- NUM_PKTS_256_TO_512_BYTES: integer (nullable = true)\n",
            " |-- NUM_PKTS_512_TO_1024_BYTES: integer (nullable = true)\n",
            " |-- NUM_PKTS_1024_TO_1514_BYTES: integer (nullable = true)\n",
            " |-- TCP_WIN_MAX_IN: integer (nullable = true)\n",
            " |-- TCP_WIN_MAX_OUT: integer (nullable = true)\n",
            " |-- ICMP_TYPE: integer (nullable = true)\n",
            " |-- ICMP_IPV4_TYPE: integer (nullable = true)\n",
            " |-- DNS_QUERY_ID: integer (nullable = true)\n",
            " |-- DNS_QUERY_TYPE: integer (nullable = true)\n",
            " |-- DNS_TTL_ANSWER: long (nullable = true)\n",
            " |-- FTP_COMMAND_RET_CODE: double (nullable = true)\n",
            " |-- Label: integer (nullable = true)"
          ]
        }
      ],
      "execution_count": 4,
      "metadata": {
        "collapsed": false
      }
    },
    {
      "cell_type": "code",
      "source": [
        "df.limit(5).toPandas()"
      ],
      "outputs": [
        {
          "output_type": "display_data",
          "data": {
            "application/vnd.livy.statement-meta+json": {
              "spark_pool": "idssmall",
              "session_id": 2,
              "statement_id": 5,
              "state": "finished",
              "livy_statement_state": "available",
              "queued_time": "2021-06-02T20:50:28.0484856Z",
              "execution_start_time": "2021-06-02T20:51:03.5882873Z",
              "execution_finish_time": "2021-06-02T20:51:07.717949Z"
            },
            "text/plain": "StatementMeta(idssmall, 2, 5, Finished, Available)"
          },
          "metadata": {}
        },
        {
          "output_type": "stream",
          "name": "stdout",
          "text": [
            "  IPV4_SRC_ADDR  L4_SRC_PORT  ... FTP_COMMAND_RET_CODE  Label\n",
            "0    59.166.0.5         1305  ...                331.0      0\n",
            "1    59.166.0.5         1305  ...                230.0      0\n",
            "2    59.166.0.5         1305  ...                229.0      0\n",
            "3    59.166.0.5         1305  ...                125.0      0\n",
            "4    59.166.0.5         1305  ...                230.0      0\n",
            "\n",
            "[5 rows x 44 columns]"
          ]
        }
      ],
      "execution_count": 5,
      "metadata": {}
    },
    {
      "cell_type": "code",
      "source": [
        "df.select(\"Label\").distinct().show()"
      ],
      "outputs": [
        {
          "output_type": "display_data",
          "data": {
            "application/vnd.livy.statement-meta+json": {
              "spark_pool": "idssmall",
              "session_id": 2,
              "statement_id": 6,
              "state": "finished",
              "livy_statement_state": "available",
              "queued_time": "2021-06-02T20:50:28.1355811Z",
              "execution_start_time": "2021-06-02T20:51:07.8357108Z",
              "execution_finish_time": "2021-06-02T20:51:14.0181964Z"
            },
            "text/plain": "StatementMeta(idssmall, 2, 6, Finished, Available)"
          },
          "metadata": {}
        },
        {
          "output_type": "stream",
          "name": "stdout",
          "text": [
            "+-----+\n",
            "|Label|\n",
            "+-----+\n",
            "|    1|\n",
            "|    0|\n",
            "+-----+"
          ]
        }
      ],
      "execution_count": 6,
      "metadata": {
        "jupyter": {
          "source_hidden": false,
          "outputs_hidden": false
        },
        "nteract": {
          "transient": {
            "deleting": false
          }
        },
        "collapsed": true
      }
    },
    {
      "cell_type": "code",
      "source": [
        "target_col = \"Label\"\r\n",
        "cate_cols = [item[0] for item in df.dtypes if item[1].startswith('string')]\r\n",
        "num_cols = list(set(df.columns) - set(cate_cols) - set([target_col]))"
      ],
      "outputs": [
        {
          "output_type": "display_data",
          "data": {
            "application/vnd.livy.statement-meta+json": {
              "spark_pool": "idssmall",
              "session_id": 2,
              "statement_id": 7,
              "state": "finished",
              "livy_statement_state": "available",
              "queued_time": "2021-06-02T20:50:28.2278497Z",
              "execution_start_time": "2021-06-02T20:51:14.1471908Z",
              "execution_finish_time": "2021-06-02T20:51:16.2073716Z"
            },
            "text/plain": "StatementMeta(idssmall, 2, 7, Finished, Available)"
          },
          "metadata": {}
        },
        {
          "output_type": "stream",
          "name": "stdout",
          "text": []
        }
      ],
      "execution_count": 7,
      "metadata": {
        "jupyter": {
          "source_hidden": false,
          "outputs_hidden": false
        },
        "nteract": {
          "transient": {
            "deleting": false
          }
        },
        "collapsed": true
      }
    },
    {
      "cell_type": "code",
      "source": [
        "print(\"categorical columns:\", cate_cols)\r\n",
        "print(\"numerical columns:\", num_cols)"
      ],
      "outputs": [
        {
          "output_type": "display_data",
          "data": {
            "application/vnd.livy.statement-meta+json": {
              "spark_pool": "idssmall",
              "session_id": 2,
              "statement_id": 8,
              "state": "finished",
              "livy_statement_state": "available",
              "queued_time": "2021-06-02T20:50:28.3024573Z",
              "execution_start_time": "2021-06-02T20:51:16.3207303Z",
              "execution_finish_time": "2021-06-02T20:51:18.3752796Z"
            },
            "text/plain": "StatementMeta(idssmall, 2, 8, Finished, Available)"
          },
          "metadata": {}
        },
        {
          "output_type": "stream",
          "name": "stdout",
          "text": [
            "categorical columns: ['IPV4_SRC_ADDR', 'IPV4_DST_ADDR']\n",
            "numerical columns: ['NUM_PKTS_512_TO_1024_BYTES', 'DST_TO_SRC_SECOND_BYTES', 'RETRANSMITTED_IN_PKTS', 'L4_DST_PORT', 'MIN_IP_PKT_LEN', 'NUM_PKTS_128_TO_256_BYTES', 'RETRANSMITTED_OUT_PKTS', 'MAX_IP_PKT_LEN', 'L4_SRC_PORT', 'OUT_BYTES', 'TCP_WIN_MAX_IN', 'SRC_TO_DST_SECOND_BYTES', 'ICMP_TYPE', 'TCP_WIN_MAX_OUT', 'NUM_PKTS_256_TO_512_BYTES', 'TCP_FLAGS', 'DNS_QUERY_ID', 'SHORTEST_FLOW_PKT', 'ICMP_IPV4_TYPE', 'DURATION_IN', 'SERVER_TCP_FLAGS', 'RETRANSMITTED_OUT_BYTES', 'OUT_PKTS', 'RETRANSMITTED_IN_BYTES', 'MIN_TTL', 'MAX_TTL', 'DNS_QUERY_TYPE', 'IN_BYTES', 'FTP_COMMAND_RET_CODE', 'NUM_PKTS_UP_TO_128_BYTES', 'DURATION_OUT', 'L7_PROTO', 'CLIENT_TCP_FLAGS', 'DNS_TTL_ANSWER', 'DST_TO_SRC_AVG_THROUGHPUT', 'PROTOCOL', 'IN_PKTS', 'NUM_PKTS_1024_TO_1514_BYTES', 'SRC_TO_DST_AVG_THROUGHPUT', 'FLOW_DURATION_MILLISECONDS', 'LONGEST_FLOW_PKT']"
          ]
        }
      ],
      "execution_count": 8,
      "metadata": {
        "jupyter": {
          "source_hidden": false,
          "outputs_hidden": false
        },
        "nteract": {
          "transient": {
            "deleting": false
          }
        },
        "collapsed": true
      }
    },
    {
      "cell_type": "markdown",
      "source": [
        "# Data Analysis and Preprocessing"
      ],
      "metadata": {}
    },
    {
      "cell_type": "markdown",
      "source": [
        "## Impute missing values"
      ],
      "metadata": {
        "nteract": {
          "transient": {
            "deleting": false
          }
        }
      }
    },
    {
      "cell_type": "code",
      "source": [
        "# Impute numerical features\r\n",
        "for col in num_cols:\r\n",
        "    df = df.withColumn(col, df[col].cast('double'))\r\n",
        "    mu = df.select(col).agg({col:'mean'}).collect()[0][0]\r\n",
        "    df = df.withColumn(col, F.when(df[col].isNull(), mu)\\\r\n",
        "                       .otherwise(df[col]))\r\n",
        "\r\n",
        "# Impute categorical features\r\n",
        "for col in cate_cols:\r\n",
        "    frq = df.select(col).groupby(col).count()\\\r\n",
        "                        .orderBy('count', ascending=False) \\\r\n",
        "                        .limit(1).collect()[0][0]\r\n",
        "    df = df.withColumn(col, F.when((df[col].isNull() | \r\n",
        "                                    (df[col] == '')), frq) \\\r\n",
        "                            .otherwise(df[col]))\r\n",
        "\r\n",
        "# Filter missing values\r\n",
        "df = df.withColumn('label', df[target_col].cast('double'))\r\n",
        "df = df.filter(df['label'].isNotNull())"
      ],
      "outputs": [
        {
          "output_type": "display_data",
          "data": {
            "application/vnd.livy.statement-meta+json": {
              "spark_pool": "idssmall",
              "session_id": 2,
              "statement_id": 9,
              "state": "finished",
              "livy_statement_state": "available",
              "queued_time": "2021-06-02T20:50:28.3847653Z",
              "execution_start_time": "2021-06-02T20:51:18.5119935Z",
              "execution_finish_time": "2021-06-02T20:52:43.5567005Z"
            },
            "text/plain": "StatementMeta(idssmall, 2, 9, Finished, Available)"
          },
          "metadata": {}
        },
        {
          "output_type": "stream",
          "name": "stdout",
          "text": []
        }
      ],
      "execution_count": 9,
      "metadata": {
        "jupyter": {
          "source_hidden": false,
          "outputs_hidden": false
        },
        "nteract": {
          "transient": {
            "deleting": false
          }
        },
        "collapsed": true
      }
    },
    {
      "cell_type": "code",
      "source": [
        "# df.createOrReplaceTempView(\"network_traffic\")\n",
        "# spark.sql(\"SELECT duration from network_traffic\").show()"
      ],
      "outputs": [
        {
          "output_type": "display_data",
          "data": {
            "application/vnd.livy.statement-meta+json": {
              "spark_pool": "idssmall",
              "session_id": 2,
              "statement_id": 10,
              "state": "finished",
              "livy_statement_state": "available",
              "queued_time": "2021-06-02T20:50:28.4696988Z",
              "execution_start_time": "2021-06-02T20:52:43.7172633Z",
              "execution_finish_time": "2021-06-02T20:52:43.7172662Z"
            },
            "text/plain": "StatementMeta(idssmall, 2, 10, Finished, Available)"
          },
          "metadata": {}
        },
        {
          "output_type": "stream",
          "name": "stdout",
          "text": []
        }
      ],
      "execution_count": 10,
      "metadata": {}
    },
    {
      "cell_type": "markdown",
      "source": [
        "## Exploratory Data Analysis\n",
        "We plot various graphs to identify distributions, relationships or any pattern that is not visible by seeing raw data."
      ],
      "metadata": {}
    },
    {
      "cell_type": "code",
      "source": [
        "df_pandas = df[cate_cols+[target_col]].toPandas()"
      ],
      "outputs": [
        {
          "output_type": "display_data",
          "data": {
            "application/vnd.livy.statement-meta+json": {
              "spark_pool": "idssmall",
              "session_id": 2,
              "statement_id": 11,
              "state": "finished",
              "livy_statement_state": "available",
              "queued_time": "2021-06-02T20:50:28.5717124Z",
              "execution_start_time": "2021-06-02T20:52:43.850599Z",
              "execution_finish_time": "2021-06-02T20:52:47.9733723Z"
            },
            "text/plain": "StatementMeta(idssmall, 2, 11, Finished, Available)"
          },
          "metadata": {}
        },
        {
          "output_type": "stream",
          "name": "stdout",
          "text": []
        }
      ],
      "execution_count": 11,
      "metadata": {
        "scrolled": true
      }
    },
    {
      "cell_type": "code",
      "source": [
        "sns.countplot(x=df_pandas['Label'])\n",
        "plt.show()"
      ],
      "outputs": [
        {
          "output_type": "display_data",
          "data": {
            "application/vnd.livy.statement-meta+json": {
              "spark_pool": "idssmall",
              "session_id": 2,
              "statement_id": 12,
              "state": "finished",
              "livy_statement_state": "available",
              "queued_time": "2021-06-02T20:50:28.6403683Z",
              "execution_start_time": "2021-06-02T20:52:48.0983965Z",
              "execution_finish_time": "2021-06-02T20:52:50.1622101Z"
            },
            "text/plain": "StatementMeta(idssmall, 2, 12, Finished, Available)"
          },
          "metadata": {}
        },
        {
          "output_type": "display_data",
          "data": {
            "image/png": "[encoded data removed]"
          },
          "metadata": {}
        },
        {
          "output_type": "execute_result",
          "execution_count": 12,
          "data": {},
          "metadata": {}
        }
      ],
      "execution_count": 12,
      "metadata": {
        "collapsed": false
      }
    },
    {
      "cell_type": "code",
      "source": [
        "plt.figure(figsize=(12,6))\n",
        "plt.xticks(rotation=90)\n",
        "sns.countplot(x=cate_cols[0], data=df_pandas, hue=\"Label\")\n",
        "plt.show()"
      ],
      "outputs": [
        {
          "output_type": "display_data",
          "data": {
            "application/vnd.livy.statement-meta+json": {
              "spark_pool": "idssmall",
              "session_id": 2,
              "statement_id": 13,
              "state": "finished",
              "livy_statement_state": "available",
              "queued_time": "2021-06-02T20:50:28.7212269Z",
              "execution_start_time": "2021-06-02T20:52:50.278422Z",
              "execution_finish_time": "2021-06-02T20:52:54.4414158Z"
            },
            "text/plain": "StatementMeta(idssmall, 2, 13, Finished, Available)"
          },
          "metadata": {}
        },
        {
          "output_type": "display_data",
          "data": {
            "image/png": "[encoded data removed]"
          },
          "metadata": {}
        },
        {
          "output_type": "execute_result",
          "execution_count": 13,
          "data": {},
          "metadata": {}
        }
      ],
      "execution_count": 13,
      "metadata": {
        "collapsed": false
      }
    },
    {
      "cell_type": "code",
      "source": [
        "plt.figure(figsize=(12,6))\n",
        "plt.xticks(rotation=90)\n",
        "sns.countplot(x=cate_cols[1], data=df_pandas, hue=\"Label\")\n",
        "plt.show()"
      ],
      "outputs": [
        {
          "output_type": "display_data",
          "data": {
            "application/vnd.livy.statement-meta+json": {
              "spark_pool": "idssmall",
              "session_id": 2,
              "statement_id": 14,
              "state": "finished",
              "livy_statement_state": "available",
              "queued_time": "2021-06-02T20:50:28.8068946Z",
              "execution_start_time": "2021-06-02T20:52:54.5776943Z",
              "execution_finish_time": "2021-06-02T20:52:58.6999842Z"
            },
            "text/plain": "StatementMeta(idssmall, 2, 14, Finished, Available)"
          },
          "metadata": {}
        },
        {
          "output_type": "display_data",
          "data": {
            "image/png": "[encoded data removed]"
          },
          "metadata": {}
        },
        {
          "output_type": "execute_result",
          "execution_count": 14,
          "data": {},
          "metadata": {}
        }
      ],
      "execution_count": 14,
      "metadata": {
        "collapsed": false,
        "scrolled": false
      }
    },
    {
      "cell_type": "code",
      "source": [
        "# n=len(num_cols)\n",
        "# plt.figure(figsize=(16,n*5))\n",
        "# for ax,cols in zip(axes,num_cols):\n",
        "#     sns.histplot(df_pandas[col], ax=ax)\n",
        "# plt.show()"
      ],
      "outputs": [
        {
          "output_type": "display_data",
          "data": {
            "application/vnd.livy.statement-meta+json": {
              "spark_pool": "idssmall",
              "session_id": 2,
              "statement_id": 15,
              "state": "finished",
              "livy_statement_state": "available",
              "queued_time": "2021-06-02T20:50:28.8858463Z",
              "execution_start_time": "2021-06-02T20:52:58.8604116Z",
              "execution_finish_time": "2021-06-02T20:53:00.9226953Z"
            },
            "text/plain": "StatementMeta(idssmall, 2, 15, Finished, Available)"
          },
          "metadata": {}
        },
        {
          "output_type": "stream",
          "name": "stdout",
          "text": []
        }
      ],
      "execution_count": 15,
      "metadata": {
        "collapsed": false
      }
    },
    {
      "cell_type": "markdown",
      "source": [
        "## Data Encoding and Scaling"
      ],
      "metadata": {
        "nteract": {
          "transient": {
            "deleting": false
          }
        }
      }
    },
    {
      "cell_type": "code",
      "source": [
        "# helper function\r\n",
        "def gen_preprocessor(df):\r\n",
        "    # String Indexing for categorical features\r\n",
        "    indexers = [StringIndexer(inputCol=col, \r\n",
        "                              outputCol=\"{}_idx\".format(col),\r\n",
        "                              handleInvalid=\"keep\") \\\r\n",
        "                              for col in cate_cols]\r\n",
        "    \r\n",
        "    # One-hot encoding for categorical features\r\n",
        "    encoders = [OneHotEncoder(inputCol=\"{}_idx\".format(col), \r\n",
        "                              outputCol=\"{}_oh\".format(col)) \\\r\n",
        "                              for col in cate_cols]\r\n",
        "\r\n",
        "    # Concat Feature Columns\r\n",
        "    assembler = VectorAssembler(inputCols = num_cols + \\\r\n",
        "                            [\"{}_oh\".format(col) for col in cate_cols], \r\n",
        "                            outputCol = \"_features\")\r\n",
        "    \r\n",
        "    # Standardize Features\r\n",
        "    scaler = StandardScaler(inputCol='_features', \r\n",
        "                            outputCol='_feat')\r\n",
        "\r\n",
        "    pca = PCA(k=5, inputCol=\"_feat\", outputCol=\"features\")\r\n",
        "\r\n",
        "    preprocessor = Pipeline(stages = indexers + encoders + \\\r\n",
        "                                     [assembler, scaler, pca]).fit(df)\r\n",
        "\r\n",
        "    return preprocessor"
      ],
      "outputs": [
        {
          "output_type": "display_data",
          "data": {
            "application/vnd.livy.statement-meta+json": {
              "spark_pool": "idssmall",
              "session_id": 2,
              "statement_id": 16,
              "state": "finished",
              "livy_statement_state": "available",
              "queued_time": "2021-06-02T20:50:28.9696369Z",
              "execution_start_time": "2021-06-02T20:53:01.0996764Z",
              "execution_finish_time": "2021-06-02T20:53:03.1564193Z"
            },
            "text/plain": "StatementMeta(idssmall, 2, 16, Finished, Available)"
          },
          "metadata": {}
        },
        {
          "output_type": "stream",
          "name": "stdout",
          "text": []
        }
      ],
      "execution_count": 16,
      "metadata": {
        "jupyter": {
          "source_hidden": false,
          "outputs_hidden": false
        },
        "nteract": {
          "transient": {
            "deleting": false
          }
        },
        "collapsed": true
      }
    },
    {
      "cell_type": "code",
      "source": [
        "# Pre-Process\r\n",
        "preprocessor = gen_preprocessor(df)   \r\n",
        "df = preprocessor.transform(df)[\"features\",\"label\"]"
      ],
      "outputs": [
        {
          "output_type": "display_data",
          "data": {
            "application/vnd.livy.statement-meta+json": {
              "spark_pool": "idssmall",
              "session_id": 2,
              "statement_id": 17,
              "state": "finished",
              "livy_statement_state": "available",
              "queued_time": "2021-06-02T20:50:29.0631926Z",
              "execution_start_time": "2021-06-02T20:53:03.30928Z",
              "execution_finish_time": "2021-06-02T20:53:30.1806187Z"
            },
            "text/plain": "StatementMeta(idssmall, 2, 17, Finished, Available)"
          },
          "metadata": {}
        },
        {
          "output_type": "stream",
          "name": "stdout",
          "text": []
        }
      ],
      "execution_count": 17,
      "metadata": {
        "jupyter": {
          "source_hidden": false,
          "outputs_hidden": false
        },
        "nteract": {
          "transient": {
            "deleting": false
          }
        },
        "collapsed": true
      }
    },
    {
      "cell_type": "code",
      "source": [
        "df.printSchema()"
      ],
      "outputs": [
        {
          "output_type": "display_data",
          "data": {
            "application/vnd.livy.statement-meta+json": {
              "spark_pool": "idssmall",
              "session_id": 2,
              "statement_id": 24,
              "state": "finished",
              "livy_statement_state": "available",
              "queued_time": "2021-06-02T21:02:11.78089Z",
              "execution_start_time": "2021-06-02T21:02:11.9115395Z",
              "execution_finish_time": "2021-06-02T21:02:13.9827545Z"
            },
            "text/plain": "StatementMeta(idssmall, 2, 24, Finished, Available)"
          },
          "metadata": {}
        },
        {
          "output_type": "stream",
          "name": "stdout",
          "text": [
            "root\n",
            " |-- features: vector (nullable = true)\n",
            " |-- label: double (nullable = true)"
          ]
        }
      ],
      "execution_count": 24,
      "metadata": {
        "collapsed": true,
        "jupyter": {
          "source_hidden": false,
          "outputs_hidden": false
        },
        "nteract": {
          "transient": {
            "deleting": false
          }
        }
      }
    },
    {
      "cell_type": "code",
      "source": [
        "r1 = Correlation.corr(df, \"features\").head()\r\n",
        "print(\"Pearson correlation matrix:\\n\" + str(r1[0]))"
      ],
      "outputs": [
        {
          "output_type": "display_data",
          "data": {
            "application/vnd.livy.statement-meta+json": {
              "spark_pool": "idssmall",
              "session_id": 2,
              "statement_id": 25,
              "state": "finished",
              "livy_statement_state": "available",
              "queued_time": "2021-06-02T21:02:17.496209Z",
              "execution_start_time": "2021-06-02T21:02:17.6490509Z",
              "execution_finish_time": "2021-06-02T21:02:34.2238155Z"
            },
            "text/plain": "StatementMeta(idssmall, 2, 25, Finished, Available)"
          },
          "metadata": {}
        },
        {
          "output_type": "stream",
          "name": "stdout",
          "text": [
            "Pearson correlation matrix:\n",
            "DenseMatrix([[ 1.00000000e+00,  4.55058591e-14,  8.82123551e-14,\n",
            "               1.37289626e-14,  7.37550321e-15],\n",
            "             [ 4.55058591e-14,  1.00000000e+00, -7.81027820e-14,\n",
            "              -2.01236891e-14, -1.30120873e-14],\n",
            "             [ 8.82123551e-14, -7.81027820e-14,  1.00000000e+00,\n",
            "               1.18291972e-13,  1.11309506e-13],\n",
            "             [ 1.37289626e-14, -2.01236891e-14,  1.18291972e-13,\n",
            "               1.00000000e+00,  1.04607875e-15],\n",
            "             [ 7.37550321e-15, -1.30120873e-14,  1.11309506e-13,\n",
            "               1.04607875e-15,  1.00000000e+00]])"
          ]
        }
      ],
      "execution_count": 25,
      "metadata": {
        "collapsed": true,
        "jupyter": {
          "source_hidden": false,
          "outputs_hidden": false
        },
        "nteract": {
          "transient": {
            "deleting": false
          }
        }
      }
    },
    {
      "cell_type": "code",
      "source": [
        "pcorr = np.array(list(map(abs,r1[0].toArray())))\r\n",
        "\r\n",
        "sns.heatmap(pcorr)\r\n",
        "plt.show()"
      ],
      "outputs": [
        {
          "output_type": "display_data",
          "data": {
            "application/vnd.livy.statement-meta+json": {
              "spark_pool": "idssmall",
              "session_id": 2,
              "statement_id": 29,
              "state": "finished",
              "livy_statement_state": "available",
              "queued_time": "2021-06-02T21:03:32.6317459Z",
              "execution_start_time": "2021-06-02T21:03:32.7586111Z",
              "execution_finish_time": "2021-06-02T21:03:34.8398905Z"
            },
            "text/plain": "StatementMeta(idssmall, 2, 29, Finished, Available)"
          },
          "metadata": {}
        },
        {
          "output_type": "display_data",
          "data": {
            "image/png": "[encoded data removed]"
          },
          "metadata": {}
        },
        {
          "output_type": "execute_result",
          "execution_count": 29,
          "data": {},
          "metadata": {}
        }
      ],
      "execution_count": 29,
      "metadata": {
        "collapsed": false,
        "jupyter": {
          "source_hidden": false,
          "outputs_hidden": false
        },
        "nteract": {
          "transient": {
            "deleting": false
          }
        }
      }
    },
    {
      "cell_type": "markdown",
      "source": [
        "## Train Test Split"
      ],
      "metadata": {
        "nteract": {
          "transient": {
            "deleting": false
          }
        }
      }
    },
    {
      "cell_type": "code",
      "source": [
        "train, test = df.randomSplit([0.7, 0.3], seed=SEED)\r\n",
        "print(\"Training data has {} rows, while testing data has {} rows\".format(train.count(), test.count()))"
      ],
      "outputs": [
        {
          "output_type": "display_data",
          "data": {
            "application/vnd.livy.statement-meta+json": {
              "spark_pool": "idssmall",
              "session_id": 2,
              "statement_id": 18,
              "state": "finished",
              "livy_statement_state": "available",
              "queued_time": "2021-06-02T20:50:29.1708031Z",
              "execution_start_time": "2021-06-02T20:53:30.3062071Z",
              "execution_finish_time": "2021-06-02T20:53:45.0729605Z"
            },
            "text/plain": "StatementMeta(idssmall, 2, 18, Finished, Available)"
          },
          "metadata": {}
        },
        {
          "output_type": "stream",
          "name": "stdout",
          "text": [
            "Training data has 1672977 rows, while testing data has 717298 rows"
          ]
        }
      ],
      "execution_count": 18,
      "metadata": {
        "jupyter": {
          "source_hidden": false,
          "outputs_hidden": false
        },
        "nteract": {
          "transient": {
            "deleting": false
          }
        },
        "collapsed": true
      }
    },
    {
      "cell_type": "markdown",
      "source": [
        "# Model Training"
      ],
      "metadata": {
        "nteract": {
          "transient": {
            "deleting": false
          }
        }
      }
    },
    {
      "cell_type": "markdown",
      "source": [
        "## Random Forest Classifier"
      ],
      "metadata": {
        "nteract": {
          "transient": {
            "deleting": false
          }
        }
      }
    },
    {
      "cell_type": "code",
      "source": [
        "rf = RandomForestClassifier()"
      ],
      "outputs": [
        {
          "output_type": "display_data",
          "data": {
            "application/vnd.livy.statement-meta+json": {
              "spark_pool": "idssmall",
              "session_id": 2,
              "statement_id": 19,
              "state": "finished",
              "livy_statement_state": "available",
              "queued_time": "2021-06-02T20:50:29.2608198Z",
              "execution_start_time": "2021-06-02T20:53:45.203242Z",
              "execution_finish_time": "2021-06-02T20:53:47.2726194Z"
            },
            "text/plain": "StatementMeta(idssmall, 2, 19, Finished, Available)"
          },
          "metadata": {}
        },
        {
          "output_type": "stream",
          "name": "stdout",
          "text": []
        }
      ],
      "execution_count": 19,
      "metadata": {}
    },
    {
      "cell_type": "code",
      "source": [
        "paramGrid = ParamGridBuilder() \\\r\n",
        "            .addGrid(rf.numTrees, [50]) \\\r\n",
        "            .addGrid(rf.maxDepth, [10]) \\\r\n",
        "            .addGrid(rf.maxBins, [32]) \\\r\n",
        "            .build()"
      ],
      "outputs": [
        {
          "output_type": "display_data",
          "data": {
            "application/vnd.livy.statement-meta+json": {
              "spark_pool": "idssmall",
              "session_id": 2,
              "statement_id": 30,
              "state": "finished",
              "livy_statement_state": "available",
              "queued_time": "2021-06-02T21:03:58.7160057Z",
              "execution_start_time": "2021-06-02T21:03:58.8348217Z",
              "execution_finish_time": "2021-06-02T21:04:00.9105194Z"
            },
            "text/plain": "StatementMeta(idssmall, 2, 30, Finished, Available)"
          },
          "metadata": {}
        },
        {
          "output_type": "stream",
          "name": "stdout",
          "text": []
        }
      ],
      "execution_count": 30,
      "metadata": {
        "jupyter": {
          "source_hidden": false,
          "outputs_hidden": false
        },
        "nteract": {
          "transient": {
            "deleting": false
          }
        },
        "collapsed": true
      }
    },
    {
      "cell_type": "code",
      "source": [
        "# Train the 5-fold Cross Validator\r\n",
        "cvModel = CrossValidator(estimator=Pipeline(stages = [rf]),\r\n",
        "            estimatorParamMaps=paramGrid,\r\n",
        "            evaluator=MulticlassClassificationEvaluator(),\r\n",
        "            numFolds=5).fit(train)"
      ],
      "outputs": [
        {
          "output_type": "display_data",
          "data": {
            "application/vnd.livy.statement-meta+json": {
              "spark_pool": "idssmall",
              "session_id": 2,
              "statement_id": 31,
              "state": "finished",
              "livy_statement_state": "available",
              "queued_time": "2021-06-02T21:03:58.7830328Z",
              "execution_start_time": "2021-06-02T21:04:01.0239589Z",
              "execution_finish_time": "2021-06-02T21:07:01.6948917Z"
            },
            "text/plain": "StatementMeta(idssmall, 2, 31, Finished, Available)"
          },
          "metadata": {}
        },
        {
          "output_type": "stream",
          "name": "stdout",
          "text": []
        }
      ],
      "execution_count": 31,
      "metadata": {
        "jupyter": {
          "source_hidden": false,
          "outputs_hidden": false
        },
        "nteract": {
          "transient": {
            "deleting": false
          }
        },
        "collapsed": true
      }
    },
    {
      "cell_type": "code",
      "source": [
        "# best params\r\n",
        "bestParams=\"\"\r\n",
        "print(\"Best Params:\")\r\n",
        "\r\n",
        "hyperparams = cvModel.getEstimatorParamMaps()[np.argmax(cvModel.avgMetrics)]\r\n",
        "for i in hyperparams:\r\n",
        "    param_name = str(i).split(\"_\")[-1]\r\n",
        "    bestParams+=\"{} = {}\\n\".format(param_name, hyperparams[i])\r\n",
        "\r\n",
        "print(bestParams)"
      ],
      "outputs": [
        {
          "output_type": "display_data",
          "data": {
            "application/vnd.livy.statement-meta+json": {
              "spark_pool": "idssmall",
              "session_id": 2,
              "statement_id": 32,
              "state": "finished",
              "livy_statement_state": "available",
              "queued_time": "2021-06-02T21:03:59.2472549Z",
              "execution_start_time": "2021-06-02T21:07:01.8795312Z",
              "execution_finish_time": "2021-06-02T21:07:03.9507695Z"
            },
            "text/plain": "StatementMeta(idssmall, 2, 32, Finished, Available)"
          },
          "metadata": {}
        },
        {
          "output_type": "stream",
          "name": "stdout",
          "text": [
            "Best Params:\n",
            "numTrees = 50\n",
            "maxDepth = 10\n",
            "maxBins = 32"
          ]
        }
      ],
      "execution_count": 32,
      "metadata": {
        "jupyter": {
          "source_hidden": false,
          "outputs_hidden": false
        },
        "nteract": {
          "transient": {
            "deleting": false
          }
        },
        "collapsed": true
      }
    },
    {
      "cell_type": "code",
      "source": [
        "# helper function\r\n",
        "def evaluate(predsAndLabels):\r\n",
        "    log = {}\r\n",
        "\r\n",
        "    evaluator = BinaryClassificationEvaluator()\r\n",
        "    # Validation Score (AUROC)\r\n",
        "    log['AUROC'] = \"%f\" % evaluator.evaluate(predsAndLabels,\r\n",
        "                              {evaluator.metricName: \"areaUnderROC\"})\r\n",
        "    # Validation Score (AUPR)\r\n",
        "    log['AUPR'] = \"%f\" % evaluator.evaluate(predsAndLabels,\r\n",
        "                              {evaluator.metricName: \"areaUnderPR\"})\r\n",
        "    \r\n",
        "    print(\"Area under ROC = {}\".format(log['AUROC']))\r\n",
        "    print(\"Area under PR = {}\".format(log['AUPR']))\r\n",
        "\r\n",
        "    # Overall statistics\r\n",
        "    evaluator = MulticlassClassificationEvaluator()\r\n",
        "\r\n",
        "    log['Accuracy'] = \"%f\" % evaluator.evaluate(predsAndLabels,\r\n",
        "                              {evaluator.metricName: \"accuracy\"})\r\n",
        "    print(\"Accuracy = {}\".format(log['Accuracy']))\r\n",
        "\r\n",
        "    log['F1 Measure'] = \"%f\" % evaluator.evaluate(predsAndLabels,\r\n",
        "                              {evaluator.metricName: \"f1\"})\r\n",
        "    log['precision'] = \"%f\" % evaluator.evaluate(predsAndLabels,\r\n",
        "                              {evaluator.metricName: \"weightedPrecision\"}) \r\n",
        "    log['recall'] = \"%f\" % evaluator.evaluate(predsAndLabels,\r\n",
        "                              {evaluator.metricName: \"weightedRecall\"})\r\n",
        "    \r\n",
        "    print(\"[Overall]\\tprecision = %s | recall = %s | F1 Measure = %s\" % \\\r\n",
        "            (log['precision'], log['recall'], log['F1 Measure']))\r\n",
        "\r\n",
        "    return log"
      ],
      "outputs": [
        {
          "output_type": "display_data",
          "data": {
            "application/vnd.livy.statement-meta+json": {
              "spark_pool": "idssmall",
              "session_id": 2,
              "statement_id": 33,
              "state": "finished",
              "livy_statement_state": "available",
              "queued_time": "2021-06-02T21:03:59.2487833Z",
              "execution_start_time": "2021-06-02T21:07:04.0657703Z",
              "execution_finish_time": "2021-06-02T21:07:06.1265264Z"
            },
            "text/plain": "StatementMeta(idssmall, 2, 33, Finished, Available)"
          },
          "metadata": {}
        },
        {
          "output_type": "stream",
          "name": "stdout",
          "text": []
        }
      ],
      "execution_count": 33,
      "metadata": {
        "jupyter": {
          "source_hidden": false,
          "outputs_hidden": false
        },
        "nteract": {
          "transient": {
            "deleting": false
          }
        },
        "collapsed": true
      }
    },
    {
      "cell_type": "code",
      "source": [
        "paramMap = cvModel.getEstimatorParamMaps()[np.argmax(cvModel.avgMetrics)]\r\n",
        "tunedModel = rf.fit(train, paramMap)"
      ],
      "outputs": [
        {
          "output_type": "display_data",
          "data": {
            "application/vnd.livy.statement-meta+json": {
              "spark_pool": "idssmall",
              "session_id": 2,
              "statement_id": 34,
              "state": "finished",
              "livy_statement_state": "available",
              "queued_time": "2021-06-02T21:03:59.2506633Z",
              "execution_start_time": "2021-06-02T21:07:06.4201916Z",
              "execution_finish_time": "2021-06-02T21:07:52.1430978Z"
            },
            "text/plain": "StatementMeta(idssmall, 2, 34, Finished, Available)"
          },
          "metadata": {}
        },
        {
          "output_type": "stream",
          "name": "stdout",
          "text": []
        }
      ],
      "execution_count": 34,
      "metadata": {
        "jupyter": {
          "source_hidden": false,
          "outputs_hidden": false
        },
        "nteract": {
          "transient": {
            "deleting": false
          }
        },
        "collapsed": true
      }
    },
    {
      "cell_type": "code",
      "source": [
        "predictionAndLabels = tunedModel.transform(train)\r\n",
        "trainLog = evaluate(predictionAndLabels)"
      ],
      "outputs": [
        {
          "output_type": "display_data",
          "data": {
            "application/vnd.livy.statement-meta+json": {
              "spark_pool": "idssmall",
              "session_id": 2,
              "statement_id": 35,
              "state": "finished",
              "livy_statement_state": "available",
              "queued_time": "2021-06-02T21:03:59.2520681Z",
              "execution_start_time": "2021-06-02T21:07:52.2588007Z",
              "execution_finish_time": "2021-06-02T21:09:07.3066591Z"
            },
            "text/plain": "StatementMeta(idssmall, 2, 35, Finished, Available)"
          },
          "metadata": {}
        },
        {
          "output_type": "stream",
          "name": "stdout",
          "text": [
            "Area under ROC = 0.999105\n",
            "Area under PR = 0.973070\n",
            "Accuracy = 0.994866\n",
            "[Overall]\tprecision = 0.995244 | recall = 0.994866 | F1 Measure = 0.994976"
          ]
        }
      ],
      "execution_count": 35,
      "metadata": {
        "jupyter": {
          "source_hidden": false,
          "outputs_hidden": false
        },
        "nteract": {
          "transient": {
            "deleting": false
          }
        },
        "collapsed": true
      }
    },
    {
      "cell_type": "code",
      "source": [
        "predictionAndLabels = tunedModel.transform(test)\r\n",
        "testLog = evaluate(predictionAndLabels)"
      ],
      "outputs": [
        {
          "output_type": "display_data",
          "data": {
            "application/vnd.livy.statement-meta+json": {
              "spark_pool": "idssmall",
              "session_id": 2,
              "statement_id": 36,
              "state": "finished",
              "livy_statement_state": "available",
              "queued_time": "2021-06-02T21:03:59.2692298Z",
              "execution_start_time": "2021-06-02T21:09:07.4284337Z",
              "execution_finish_time": "2021-06-02T21:10:14.019934Z"
            },
            "text/plain": "StatementMeta(idssmall, 2, 36, Finished, Available)"
          },
          "metadata": {}
        },
        {
          "output_type": "stream",
          "name": "stdout",
          "text": [
            "Area under ROC = 0.999137\n",
            "Area under PR = 0.974201\n",
            "Accuracy = 0.994849\n",
            "[Overall]\tprecision = 0.995200 | recall = 0.994849 | F1 Measure = 0.994953"
          ]
        }
      ],
      "execution_count": 36,
      "metadata": {
        "jupyter": {
          "source_hidden": false,
          "outputs_hidden": false
        },
        "nteract": {
          "transient": {
            "deleting": false
          }
        },
        "collapsed": true
      }
    },
    {
      "cell_type": "code",
      "source": [],
      "outputs": [],
      "execution_count": null,
      "metadata": {
        "jupyter": {
          "source_hidden": false,
          "outputs_hidden": false
        },
        "nteract": {
          "transient": {
            "deleting": false
          }
        },
        "collapsed": true
      }
    }
  ],
  "metadata": {
    "kernelspec": {
      "name": "synapse_pyspark",
      "language": "Python",
      "display_name": "Synapse PySpark"
    },
    "language_info": {
      "name": "python"
    },
    "kernel_info": {
      "name": "synapse_pyspark"
    },
    "save_output": true,
    "synapse_widget": {
      "version": "0.1",
      "state": {}
    }
  },
  "nbformat": 4,
  "nbformat_minor": 2
}